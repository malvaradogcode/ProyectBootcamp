{
 "cells": [
  {
   "cell_type": "code",
   "execution_count": 99,
   "metadata": {},
   "outputs": [],
   "source": [
    "import pandas as pd\n",
    "import numpy as np\n",
    "import matplotlib.pyplot as plt\n",
    "import seaborn as sns\n",
    "import pandas_profiling as ppr\n",
    "from fitter import Fitter"
   ]
  },
  {
   "cell_type": "code",
   "execution_count": 100,
   "metadata": {},
   "outputs": [],
   "source": [
    "%matplotlib inline"
   ]
  },
  {
   "cell_type": "code",
   "execution_count": 101,
   "metadata": {},
   "outputs": [],
   "source": [
    "# Lectura de los datos\n",
    "df_Continent = pd.read_csv('../data\\Continent_Consumption_TWH.csv')\n",
    "df_Countries =  pd.read_csv('../data/Country_Consumption_TWH.csv')\n",
    "df_non_renewable_total = pd.read_csv('../data/nonRenewablesTotalPowerGeneration.csv')\n",
    "df_renewable_total = pd.read_csv('../data/renewablesTotalPowerGeneration.csv')\n",
    "df_renewable_power_generation = pd.read_csv('../data/nonRenewablesTotalPowerGeneration.csv')\n",
    "df_top_Countries = pd.read_csv('../data/top20CountriesPowerGeneration.csv')"
   ]
  },
  {
   "cell_type": "code",
   "execution_count": 102,
   "metadata": {},
   "outputs": [
    {
     "data": {
      "text/html": [
       "<div>\n",
       "<style scoped>\n",
       "    .dataframe tbody tr th:only-of-type {\n",
       "        vertical-align: middle;\n",
       "    }\n",
       "\n",
       "    .dataframe tbody tr th {\n",
       "        vertical-align: top;\n",
       "    }\n",
       "\n",
       "    .dataframe thead th {\n",
       "        text-align: right;\n",
       "    }\n",
       "</style>\n",
       "<table border=\"1\" class=\"dataframe\">\n",
       "  <thead>\n",
       "    <tr style=\"text-align: right;\">\n",
       "      <th></th>\n",
       "      <th>Year</th>\n",
       "      <th>World</th>\n",
       "      <th>OECD</th>\n",
       "      <th>BRICS</th>\n",
       "      <th>Europe</th>\n",
       "      <th>North America</th>\n",
       "      <th>Latin America</th>\n",
       "      <th>Asia</th>\n",
       "      <th>Pacific</th>\n",
       "      <th>Africa</th>\n",
       "      <th>Middle-East</th>\n",
       "      <th>CIS</th>\n",
       "    </tr>\n",
       "  </thead>\n",
       "  <tbody>\n",
       "    <tr>\n",
       "      <th>0</th>\n",
       "      <td>1990</td>\n",
       "      <td>101855.54</td>\n",
       "      <td>52602.49</td>\n",
       "      <td>26621.07</td>\n",
       "      <td>20654.88</td>\n",
       "      <td>24667.23</td>\n",
       "      <td>5373.06</td>\n",
       "      <td>24574.19</td>\n",
       "      <td>1197.89</td>\n",
       "      <td>4407.77</td>\n",
       "      <td>2581.86</td>\n",
       "      <td>16049.40</td>\n",
       "    </tr>\n",
       "    <tr>\n",
       "      <th>1</th>\n",
       "      <td>1991</td>\n",
       "      <td>102483.56</td>\n",
       "      <td>53207.25</td>\n",
       "      <td>26434.99</td>\n",
       "      <td>20631.62</td>\n",
       "      <td>24841.68</td>\n",
       "      <td>5500.99</td>\n",
       "      <td>24783.53</td>\n",
       "      <td>1186.26</td>\n",
       "      <td>4535.70</td>\n",
       "      <td>2744.68</td>\n",
       "      <td>15898.21</td>\n",
       "    </tr>\n",
       "    <tr>\n",
       "      <th>2</th>\n",
       "      <td>1992</td>\n",
       "      <td>102588.23</td>\n",
       "      <td>53788.75</td>\n",
       "      <td>25993.05</td>\n",
       "      <td>20189.68</td>\n",
       "      <td>25341.77</td>\n",
       "      <td>5628.92</td>\n",
       "      <td>25690.67</td>\n",
       "      <td>1209.52</td>\n",
       "      <td>4582.22</td>\n",
       "      <td>3081.95</td>\n",
       "      <td>14339.79</td>\n",
       "    </tr>\n",
       "    <tr>\n",
       "      <th>3</th>\n",
       "      <td>1993</td>\n",
       "      <td>103646.56</td>\n",
       "      <td>54614.48</td>\n",
       "      <td>26283.80</td>\n",
       "      <td>20189.68</td>\n",
       "      <td>25830.23</td>\n",
       "      <td>5675.44</td>\n",
       "      <td>26876.93</td>\n",
       "      <td>1267.67</td>\n",
       "      <td>4721.78</td>\n",
       "      <td>3349.44</td>\n",
       "      <td>13246.57</td>\n",
       "    </tr>\n",
       "    <tr>\n",
       "      <th>4</th>\n",
       "      <td>1994</td>\n",
       "      <td>104449.03</td>\n",
       "      <td>55579.77</td>\n",
       "      <td>25993.05</td>\n",
       "      <td>20085.01</td>\n",
       "      <td>26365.21</td>\n",
       "      <td>5989.45</td>\n",
       "      <td>28098.08</td>\n",
       "      <td>1279.30</td>\n",
       "      <td>4803.19</td>\n",
       "      <td>3640.19</td>\n",
       "      <td>11606.74</td>\n",
       "    </tr>\n",
       "  </tbody>\n",
       "</table>\n",
       "</div>"
      ],
      "text/plain": [
       "   Year      World      OECD     BRICS    Europe  North America  \\\n",
       "0  1990  101855.54  52602.49  26621.07  20654.88       24667.23   \n",
       "1  1991  102483.56  53207.25  26434.99  20631.62       24841.68   \n",
       "2  1992  102588.23  53788.75  25993.05  20189.68       25341.77   \n",
       "3  1993  103646.56  54614.48  26283.80  20189.68       25830.23   \n",
       "4  1994  104449.03  55579.77  25993.05  20085.01       26365.21   \n",
       "\n",
       "   Latin America      Asia  Pacific   Africa  Middle-East       CIS  \n",
       "0        5373.06  24574.19  1197.89  4407.77      2581.86  16049.40  \n",
       "1        5500.99  24783.53  1186.26  4535.70      2744.68  15898.21  \n",
       "2        5628.92  25690.67  1209.52  4582.22      3081.95  14339.79  \n",
       "3        5675.44  26876.93  1267.67  4721.78      3349.44  13246.57  \n",
       "4        5989.45  28098.08  1279.30  4803.19      3640.19  11606.74  "
      ]
     },
     "execution_count": 102,
     "metadata": {},
     "output_type": "execute_result"
    }
   ],
   "source": [
    "df_Continent.head()"
   ]
  },
  {
   "cell_type": "code",
   "execution_count": 103,
   "metadata": {},
   "outputs": [
    {
     "data": {
      "text/plain": [
       "count        31.000000\n",
       "mean     132792.465484\n",
       "std       22724.116555\n",
       "min      101855.540000\n",
       "25%      111176.985000\n",
       "50%      133582.180000\n",
       "75%      154853.450000\n",
       "max      167553.410000\n",
       "Name: World, dtype: float64"
      ]
     },
     "execution_count": 103,
     "metadata": {},
     "output_type": "execute_result"
    }
   ],
   "source": [
    "df_Continent['World'].describe()"
   ]
  },
  {
   "cell_type": "code",
   "execution_count": 104,
   "metadata": {},
   "outputs": [
    {
     "data": {
      "image/png": "[encoded data removed]",
      "text/plain": [
       "<Figure size 432x288 with 1 Axes>"
      ]
     },
     "metadata": {
      "needs_background": "light"
     },
     "output_type": "display_data"
    }
   ],
   "source": [
    "df_Continent['World'].hist()\n",
    "plt.show()"
   ]
  },
  {
   "cell_type": "code",
   "execution_count": 105,
   "metadata": {},
   "outputs": [
    {
     "data": {
      "text/plain": [
       "array([101.86, 111.24, 120.63, 130.01, 139.4 , 148.78, 158.17, 167.55])"
      ]
     },
     "execution_count": 105,
     "metadata": {},
     "output_type": "execute_result"
    }
   ],
   "source": [
    "count, bins = np.histogram(df_Continent['World'].values, bins=7)\n",
    "segmentos = np.round(bins/1000,2)\n",
    "segmentos"
   ]
  },
  {
   "cell_type": "code",
   "execution_count": 106,
   "metadata": {},
   "outputs": [
    {
     "data": {
      "text/plain": [
       "0     101.85554\n",
       "1     102.48356\n",
       "2     102.58823\n",
       "3     103.64656\n",
       "4     104.44903\n",
       "5     107.11230\n",
       "6     109.76394\n",
       "7     110.90368\n",
       "8     111.45029\n",
       "9     113.97400\n",
       "10    116.59075\n",
       "11    117.52115\n",
       "12    120.20768\n",
       "13    124.46426\n",
       "14    129.95362\n",
       "15    133.58218\n",
       "16    137.39682\n",
       "17    141.21146\n",
       "18    142.87455\n",
       "19    141.49058\n",
       "20    149.29431\n",
       "21    151.78313\n",
       "22    153.74860\n",
       "23    155.95830\n",
       "24    157.66791\n",
       "25    158.08659\n",
       "26    159.37752\n",
       "27    162.45947\n",
       "28    166.29737\n",
       "29    167.55341\n",
       "30    160.81964\n",
       "Name: World, dtype: float64"
      ]
     },
     "execution_count": 106,
     "metadata": {},
     "output_type": "execute_result"
    }
   ],
   "source": [
    "df_continent_normal = df_Continent['World']/1000\n",
    "df_continent_normal"
   ]
  },
  {
   "cell_type": "code",
   "execution_count": 107,
   "metadata": {},
   "outputs": [
    {
     "data": {
      "text/plain": [
       "(100, 110]    7\n",
       "(150, 160]    6\n",
       "(110, 120]    5\n",
       "(140, 150]    4\n",
       "(160, 170]    4\n",
       "(120, 130]    3\n",
       "(130, 140]    2\n",
       "Name: World, dtype: int64"
      ]
     },
     "execution_count": 107,
     "metadata": {},
     "output_type": "execute_result"
    }
   ],
   "source": [
    "rangos_consumo = [100,110,120,130,140,150,160,170]\n",
    "consumo_segmentos = pd.cut(np.round(df_continent_normal,2), bins=rangos_consumo)\n",
    "consumo_segmentos_count = consumo_segmentos.value_counts()\n",
    "consumo_segmentos_count"
   ]
  },
  {
   "cell_type": "code",
   "execution_count": 108,
   "metadata": {},
   "outputs": [
    {
     "data": {
      "text/plain": [
       "<AxesSubplot:>"
      ]
     },
     "execution_count": 108,
     "metadata": {},
     "output_type": "execute_result"
    },
    {
     "data": {
      "image/png": "[encoded data removed]",
      "text/plain": [
       "<Figure size 432x288 with 1 Axes>"
      ]
     },
     "metadata": {
      "needs_background": "light"
     },
     "output_type": "display_data"
    }
   ],
   "source": [
    "consumo_segmentos_count.sort_index().plot(kind='bar')"
   ]
  },
  {
   "cell_type": "code",
   "execution_count": 109,
   "metadata": {},
   "outputs": [],
   "source": [
    "# Notamos que los datos de Year se encuentran como los índices del dataset\n",
    "# Restablecemos el índica y hacemos que el índice anterior que correspondía a los años se agregue como columna\n",
    "df_Continent_years = df_Continent.reset_index()"
   ]
  },
  {
   "cell_type": "code",
   "execution_count": 110,
   "metadata": {},
   "outputs": [
    {
     "data": {
      "image/png": "[encoded data removed]",
      "text/plain": [
       "<Figure size 864x648 with 1 Axes>"
      ]
     },
     "metadata": {
      "needs_background": "light"
     },
     "output_type": "display_data"
    }
   ],
   "source": [
    "world_energy_consumption = df_Continent['World'].values\n",
    "years = df_Continent_years['Year'].values\n",
    "\n",
    "plt.figure(figsize=(12,9))\n",
    "plt.plot(years,world_energy_consumption)\n",
    "plt.xlabel('Years')\n",
    "plt.ylabel('TWh')\n",
    "plt.title('World energy consumption')\n",
    "plt.grid(True)\n",
    "plt.show()\n",
    "\n"
   ]
  },
  {
   "cell_type": "markdown",
   "metadata": {},
   "source": [
    "Podemos ver claramente que el consumo energético en el mundo aumenta cada año. Pero notamos dos cambios abruptos cerca del 2008-2009 y 2020. Podríamos asociar estos cambios a:\n",
    "- 2008-2009: Gran recesión o crisis económica iniciada en el 2008, pero que se evidenció en el 2009.\n",
    "- 2019-2020: En Noviembre del 2019 se encontró el primer caso de Covid19 y en el 2020 se delcaró pandemia mundial."
   ]
  },
  {
   "cell_type": "code",
   "execution_count": 111,
   "metadata": {},
   "outputs": [
    {
     "data": {
      "image/png": "[encoded data removed]",
      "text/plain": [
       "<Figure size 864x360 with 1 Axes>"
      ]
     },
     "metadata": {
      "needs_background": "light"
     },
     "output_type": "display_data"
    }
   ],
   "source": [
    "tasa_crecimiento = df_Continent['World'].pct_change().mul(100) \n",
    "\n",
    "plt.figure(figsize=(12,5))\n",
    "plt.plot(years,tasa_crecimiento, 'r')\n",
    "plt.xlabel('Years')\n",
    "plt.ylabel('%')\n",
    "plt.title('Tasa de crecimiento del consumo de energía mundial')\n",
    "plt.grid(True)\n",
    "plt.show()"
   ]
  },
  {
   "cell_type": "code",
   "execution_count": 112,
   "metadata": {},
   "outputs": [],
   "source": [
    "profile = ppr.ProfileReport(df_Continent, title='Pandas Profiling Report', minimal=True)"
   ]
  },
  {
   "cell_type": "code",
   "execution_count": 113,
   "metadata": {},
   "outputs": [
    {
     "name": "stderr",
     "output_type": "stream",
     "text": [
      "Summarize dataset: 100%|██████████| 18/18 [00:00<00:00, 211.77it/s, Completed]                     \n",
      "Generate report structure: 100%|██████████| 1/1 [00:03<00:00,  3.27s/it]\n",
      "Render HTML: 100%|██████████| 1/1 [00:00<00:00,  2.96it/s]\n",
      "Export report to file: 100%|██████████| 1/1 [00:00<00:00, 500.27it/s]\n"
     ]
    }
   ],
   "source": [
    "profile.to_file('../data/reports/Continent_Consumption_TWH.html')"
   ]
  },
  {
   "cell_type": "markdown",
   "metadata": {},
   "source": [
    "# Preguntas de investigacion\n",
    "\n",
    "1. ¿Qué países y organizaciones consumen más energía?\n",
    "1. ¿Qué países han tenido mayor crecimiento en la demanda energética y cuáles han tenido disminuciones de demanda?\n",
    "1. Cuales son las principales fuentes de generacion de energía de los países, continente, organización.\n",
    "1. ¿Qué fuentes de energía renovable son las de mayor crecimiento?\n",
    "1. ¿Qué países y organizaciones tienen fuentes de generación más limpias (Renvables o no Renovables)?\n",
    "\n",
    "Ejes de exploración: Consumo, Fuentes, crecimiento"
   ]
  },
  {
   "cell_type": "markdown",
   "metadata": {},
   "source": [
    "## Consumo energético"
   ]
  },
  {
   "cell_type": "code",
   "execution_count": 114,
   "metadata": {},
   "outputs": [],
   "source": [
    "continentes = ['Year','Asia','Africa','Europe','North America','Latin America']\n",
    "organization_name = ['Year','OECD','CIS','Middle-East','BRICS']"
   ]
  },
  {
   "cell_type": "code",
   "execution_count": 115,
   "metadata": {},
   "outputs": [
    {
     "data": {
      "text/html": [
       "<div>\n",
       "<style scoped>\n",
       "    .dataframe tbody tr th:only-of-type {\n",
       "        vertical-align: middle;\n",
       "    }\n",
       "\n",
       "    .dataframe tbody tr th {\n",
       "        vertical-align: top;\n",
       "    }\n",
       "\n",
       "    .dataframe thead th {\n",
       "        text-align: right;\n",
       "    }\n",
       "</style>\n",
       "<table border=\"1\" class=\"dataframe\">\n",
       "  <thead>\n",
       "    <tr style=\"text-align: right;\">\n",
       "      <th></th>\n",
       "      <th>Year</th>\n",
       "      <th>OECD</th>\n",
       "      <th>CIS</th>\n",
       "      <th>Middle-East</th>\n",
       "      <th>BRICS</th>\n",
       "    </tr>\n",
       "  </thead>\n",
       "  <tbody>\n",
       "    <tr>\n",
       "      <th>0</th>\n",
       "      <td>1990</td>\n",
       "      <td>52602.49</td>\n",
       "      <td>16049.40</td>\n",
       "      <td>2581.86</td>\n",
       "      <td>26621.07</td>\n",
       "    </tr>\n",
       "    <tr>\n",
       "      <th>1</th>\n",
       "      <td>1991</td>\n",
       "      <td>53207.25</td>\n",
       "      <td>15898.21</td>\n",
       "      <td>2744.68</td>\n",
       "      <td>26434.99</td>\n",
       "    </tr>\n",
       "    <tr>\n",
       "      <th>2</th>\n",
       "      <td>1992</td>\n",
       "      <td>53788.75</td>\n",
       "      <td>14339.79</td>\n",
       "      <td>3081.95</td>\n",
       "      <td>25993.05</td>\n",
       "    </tr>\n",
       "    <tr>\n",
       "      <th>3</th>\n",
       "      <td>1993</td>\n",
       "      <td>54614.48</td>\n",
       "      <td>13246.57</td>\n",
       "      <td>3349.44</td>\n",
       "      <td>26283.80</td>\n",
       "    </tr>\n",
       "    <tr>\n",
       "      <th>4</th>\n",
       "      <td>1994</td>\n",
       "      <td>55579.77</td>\n",
       "      <td>11606.74</td>\n",
       "      <td>3640.19</td>\n",
       "      <td>25993.05</td>\n",
       "    </tr>\n",
       "  </tbody>\n",
       "</table>\n",
       "</div>"
      ],
      "text/plain": [
       "   Year      OECD       CIS  Middle-East     BRICS\n",
       "0  1990  52602.49  16049.40      2581.86  26621.07\n",
       "1  1991  53207.25  15898.21      2744.68  26434.99\n",
       "2  1992  53788.75  14339.79      3081.95  25993.05\n",
       "3  1993  54614.48  13246.57      3349.44  26283.80\n",
       "4  1994  55579.77  11606.74      3640.19  25993.05"
      ]
     },
     "execution_count": 115,
     "metadata": {},
     "output_type": "execute_result"
    }
   ],
   "source": [
    "# Consumo energético por Organizaciones\n",
    "df_org_cons = df_Continent_years[organization_name]\n",
    "df_org_cons.head()"
   ]
  },
  {
   "cell_type": "code",
   "execution_count": 116,
   "metadata": {},
   "outputs": [
    {
     "data": {
      "image/png": "[encoded data removed]",
      "text/plain": [
       "<Figure size 864x504 with 1 Axes>"
      ]
     },
     "metadata": {
      "needs_background": "light"
     },
     "output_type": "display_data"
    }
   ],
   "source": [
    "ax = df_org_cons.plot(x='Year',y=df_org_cons.columns[1:], figsize=(12,7))\n",
    "fig = ax.get_figure()\n",
    "ax.set_xticks(df_org_cons['Year'])\n",
    "ax.tick_params(axis='x', rotation=90)\n",
    "ax.legend(bbox_to_anchor=(1,1.02), loc='upper left')\n",
    "fig.tight_layout(pad=3)\n",
    "fig.suptitle('Organizations power consumption (TWh)', fontsize=25, y=1.02)\n",
    "\n",
    "plt.show()"
   ]
  },
  {
   "cell_type": "code",
   "execution_count": 117,
   "metadata": {},
   "outputs": [
    {
     "data": {
      "text/html": [
       "<div>\n",
       "<style scoped>\n",
       "    .dataframe tbody tr th:only-of-type {\n",
       "        vertical-align: middle;\n",
       "    }\n",
       "\n",
       "    .dataframe tbody tr th {\n",
       "        vertical-align: top;\n",
       "    }\n",
       "\n",
       "    .dataframe thead th {\n",
       "        text-align: right;\n",
       "    }\n",
       "</style>\n",
       "<table border=\"1\" class=\"dataframe\">\n",
       "  <thead>\n",
       "    <tr style=\"text-align: right;\">\n",
       "      <th></th>\n",
       "      <th>Year</th>\n",
       "      <th>Asia</th>\n",
       "      <th>Africa</th>\n",
       "      <th>Europe</th>\n",
       "      <th>North America</th>\n",
       "      <th>Latin America</th>\n",
       "    </tr>\n",
       "  </thead>\n",
       "  <tbody>\n",
       "    <tr>\n",
       "      <th>0</th>\n",
       "      <td>1990</td>\n",
       "      <td>24574.19</td>\n",
       "      <td>4407.77</td>\n",
       "      <td>20654.88</td>\n",
       "      <td>24667.23</td>\n",
       "      <td>5373.06</td>\n",
       "    </tr>\n",
       "    <tr>\n",
       "      <th>1</th>\n",
       "      <td>1991</td>\n",
       "      <td>24783.53</td>\n",
       "      <td>4535.70</td>\n",
       "      <td>20631.62</td>\n",
       "      <td>24841.68</td>\n",
       "      <td>5500.99</td>\n",
       "    </tr>\n",
       "    <tr>\n",
       "      <th>2</th>\n",
       "      <td>1992</td>\n",
       "      <td>25690.67</td>\n",
       "      <td>4582.22</td>\n",
       "      <td>20189.68</td>\n",
       "      <td>25341.77</td>\n",
       "      <td>5628.92</td>\n",
       "    </tr>\n",
       "    <tr>\n",
       "      <th>3</th>\n",
       "      <td>1993</td>\n",
       "      <td>26876.93</td>\n",
       "      <td>4721.78</td>\n",
       "      <td>20189.68</td>\n",
       "      <td>25830.23</td>\n",
       "      <td>5675.44</td>\n",
       "    </tr>\n",
       "    <tr>\n",
       "      <th>4</th>\n",
       "      <td>1994</td>\n",
       "      <td>28098.08</td>\n",
       "      <td>4803.19</td>\n",
       "      <td>20085.01</td>\n",
       "      <td>26365.21</td>\n",
       "      <td>5989.45</td>\n",
       "    </tr>\n",
       "  </tbody>\n",
       "</table>\n",
       "</div>"
      ],
      "text/plain": [
       "   Year      Asia   Africa    Europe  North America  Latin America\n",
       "0  1990  24574.19  4407.77  20654.88       24667.23        5373.06\n",
       "1  1991  24783.53  4535.70  20631.62       24841.68        5500.99\n",
       "2  1992  25690.67  4582.22  20189.68       25341.77        5628.92\n",
       "3  1993  26876.93  4721.78  20189.68       25830.23        5675.44\n",
       "4  1994  28098.08  4803.19  20085.01       26365.21        5989.45"
      ]
     },
     "execution_count": 117,
     "metadata": {},
     "output_type": "execute_result"
    }
   ],
   "source": [
    "# Consumo energético por Continentes\n",
    "df_cont_cons = df_Continent_years[continentes]\n",
    "df_cont_cons.head()"
   ]
  },
  {
   "cell_type": "code",
   "execution_count": 118,
   "metadata": {},
   "outputs": [
    {
     "data": {
      "image/png": "[encoded data removed]",
      "text/plain": [
       "<Figure size 864x504 with 1 Axes>"
      ]
     },
     "metadata": {
      "needs_background": "light"
     },
     "output_type": "display_data"
    }
   ],
   "source": [
    "ax1 = df_cont_cons.plot(x='Year',y=df_cont_cons.columns[1:], figsize=(12,7))\n",
    "fig = ax.get_figure()\n",
    "ax1.set_xticks(df_org_cons['Year'])\n",
    "ax1.tick_params(axis='x', rotation=90)\n",
    "ax1.legend(bbox_to_anchor=(1,1.02), loc='upper left')\n",
    "fig.tight_layout(pad=3)\n",
    "fig.suptitle('Continents power consumption (TWh)', fontsize=25, y=1.02)\n",
    "\n",
    "plt.show()"
   ]
  },
  {
   "cell_type": "code",
   "execution_count": 119,
   "metadata": {},
   "outputs": [
    {
     "data": {
      "text/html": [
       "<div>\n",
       "<style scoped>\n",
       "    .dataframe tbody tr th:only-of-type {\n",
       "        vertical-align: middle;\n",
       "    }\n",
       "\n",
       "    .dataframe tbody tr th {\n",
       "        vertical-align: top;\n",
       "    }\n",
       "\n",
       "    .dataframe thead th {\n",
       "        text-align: right;\n",
       "    }\n",
       "</style>\n",
       "<table border=\"1\" class=\"dataframe\">\n",
       "  <thead>\n",
       "    <tr style=\"text-align: right;\">\n",
       "      <th></th>\n",
       "      <th>Year</th>\n",
       "      <th>China</th>\n",
       "      <th>United States</th>\n",
       "      <th>Brazil</th>\n",
       "      <th>Belgium</th>\n",
       "      <th>Czechia</th>\n",
       "      <th>France</th>\n",
       "      <th>Germany</th>\n",
       "      <th>Italy</th>\n",
       "      <th>Netherlands</th>\n",
       "      <th>...</th>\n",
       "      <th>Australia</th>\n",
       "      <th>New Zealand</th>\n",
       "      <th>Algeria</th>\n",
       "      <th>Egypt</th>\n",
       "      <th>Nigeria</th>\n",
       "      <th>South Africa</th>\n",
       "      <th>Iran</th>\n",
       "      <th>Kuwait</th>\n",
       "      <th>Saudi Arabia</th>\n",
       "      <th>United Arab Emirates</th>\n",
       "    </tr>\n",
       "  </thead>\n",
       "  <tbody>\n",
       "    <tr>\n",
       "      <th>0</th>\n",
       "      <td>1990.0</td>\n",
       "      <td>874.0</td>\n",
       "      <td>1910.0</td>\n",
       "      <td>141.0</td>\n",
       "      <td>48.0</td>\n",
       "      <td>50.0</td>\n",
       "      <td>225.0</td>\n",
       "      <td>351.0</td>\n",
       "      <td>147.0</td>\n",
       "      <td>67.0</td>\n",
       "      <td>...</td>\n",
       "      <td>86.0</td>\n",
       "      <td>14.0</td>\n",
       "      <td>22.0</td>\n",
       "      <td>33.0</td>\n",
       "      <td>66.0</td>\n",
       "      <td>90.0</td>\n",
       "      <td>69.0</td>\n",
       "      <td>9.0</td>\n",
       "      <td>58.0</td>\n",
       "      <td>20.0</td>\n",
       "    </tr>\n",
       "    <tr>\n",
       "      <th>1</th>\n",
       "      <td>1991.0</td>\n",
       "      <td>848.0</td>\n",
       "      <td>1925.0</td>\n",
       "      <td>143.0</td>\n",
       "      <td>50.0</td>\n",
       "      <td>45.0</td>\n",
       "      <td>237.0</td>\n",
       "      <td>344.0</td>\n",
       "      <td>150.0</td>\n",
       "      <td>69.0</td>\n",
       "      <td>...</td>\n",
       "      <td>85.0</td>\n",
       "      <td>14.0</td>\n",
       "      <td>23.0</td>\n",
       "      <td>33.0</td>\n",
       "      <td>70.0</td>\n",
       "      <td>92.0</td>\n",
       "      <td>77.0</td>\n",
       "      <td>3.0</td>\n",
       "      <td>68.0</td>\n",
       "      <td>23.0</td>\n",
       "    </tr>\n",
       "    <tr>\n",
       "      <th>2</th>\n",
       "      <td>1992.0</td>\n",
       "      <td>877.0</td>\n",
       "      <td>1964.0</td>\n",
       "      <td>145.0</td>\n",
       "      <td>51.0</td>\n",
       "      <td>44.0</td>\n",
       "      <td>234.0</td>\n",
       "      <td>338.0</td>\n",
       "      <td>149.0</td>\n",
       "      <td>69.0</td>\n",
       "      <td>...</td>\n",
       "      <td>87.0</td>\n",
       "      <td>14.0</td>\n",
       "      <td>24.0</td>\n",
       "      <td>34.0</td>\n",
       "      <td>72.0</td>\n",
       "      <td>88.0</td>\n",
       "      <td>81.0</td>\n",
       "      <td>9.0</td>\n",
       "      <td>77.0</td>\n",
       "      <td>22.0</td>\n",
       "    </tr>\n",
       "    <tr>\n",
       "      <th>3</th>\n",
       "      <td>1993.0</td>\n",
       "      <td>929.0</td>\n",
       "      <td>1998.0</td>\n",
       "      <td>148.0</td>\n",
       "      <td>49.0</td>\n",
       "      <td>43.0</td>\n",
       "      <td>238.0</td>\n",
       "      <td>335.0</td>\n",
       "      <td>149.0</td>\n",
       "      <td>70.0</td>\n",
       "      <td>...</td>\n",
       "      <td>91.0</td>\n",
       "      <td>15.0</td>\n",
       "      <td>24.0</td>\n",
       "      <td>35.0</td>\n",
       "      <td>74.0</td>\n",
       "      <td>94.0</td>\n",
       "      <td>87.0</td>\n",
       "      <td>12.0</td>\n",
       "      <td>80.0</td>\n",
       "      <td>23.0</td>\n",
       "    </tr>\n",
       "    <tr>\n",
       "      <th>4</th>\n",
       "      <td>1994.0</td>\n",
       "      <td>973.0</td>\n",
       "      <td>2036.0</td>\n",
       "      <td>156.0</td>\n",
       "      <td>52.0</td>\n",
       "      <td>41.0</td>\n",
       "      <td>231.0</td>\n",
       "      <td>333.0</td>\n",
       "      <td>147.0</td>\n",
       "      <td>70.0</td>\n",
       "      <td>...</td>\n",
       "      <td>91.0</td>\n",
       "      <td>15.0</td>\n",
       "      <td>23.0</td>\n",
       "      <td>34.0</td>\n",
       "      <td>72.0</td>\n",
       "      <td>98.0</td>\n",
       "      <td>97.0</td>\n",
       "      <td>14.0</td>\n",
       "      <td>84.0</td>\n",
       "      <td>26.0</td>\n",
       "    </tr>\n",
       "  </tbody>\n",
       "</table>\n",
       "<p>5 rows × 45 columns</p>\n",
       "</div>"
      ],
      "text/plain": [
       "     Year  China  United States  Brazil  Belgium  Czechia  France  Germany  \\\n",
       "0  1990.0  874.0         1910.0   141.0     48.0     50.0   225.0    351.0   \n",
       "1  1991.0  848.0         1925.0   143.0     50.0     45.0   237.0    344.0   \n",
       "2  1992.0  877.0         1964.0   145.0     51.0     44.0   234.0    338.0   \n",
       "3  1993.0  929.0         1998.0   148.0     49.0     43.0   238.0    335.0   \n",
       "4  1994.0  973.0         2036.0   156.0     52.0     41.0   231.0    333.0   \n",
       "\n",
       "   Italy  Netherlands  ...  Australia  New Zealand  Algeria  Egypt  Nigeria  \\\n",
       "0  147.0         67.0  ...       86.0         14.0     22.0   33.0     66.0   \n",
       "1  150.0         69.0  ...       85.0         14.0     23.0   33.0     70.0   \n",
       "2  149.0         69.0  ...       87.0         14.0     24.0   34.0     72.0   \n",
       "3  149.0         70.0  ...       91.0         15.0     24.0   35.0     74.0   \n",
       "4  147.0         70.0  ...       91.0         15.0     23.0   34.0     72.0   \n",
       "\n",
       "   South Africa  Iran  Kuwait  Saudi Arabia  United Arab Emirates  \n",
       "0          90.0  69.0     9.0          58.0                  20.0  \n",
       "1          92.0  77.0     3.0          68.0                  23.0  \n",
       "2          88.0  81.0     9.0          77.0                  22.0  \n",
       "3          94.0  87.0    12.0          80.0                  23.0  \n",
       "4          98.0  97.0    14.0          84.0                  26.0  \n",
       "\n",
       "[5 rows x 45 columns]"
      ]
     },
     "execution_count": 119,
     "metadata": {},
     "output_type": "execute_result"
    }
   ],
   "source": [
    "df_Country.head()"
   ]
  },
  {
   "cell_type": "code",
   "execution_count": 120,
   "metadata": {},
   "outputs": [
    {
     "name": "stderr",
     "output_type": "stream",
     "text": [
      "Summarize dataset: 100%|██████████| 51/51 [00:00<00:00, 146.71it/s, Completed]                            \n",
      "Generate report structure: 100%|██████████| 1/1 [00:12<00:00, 12.46s/it]\n",
      "Render HTML: 100%|██████████| 1/1 [00:01<00:00,  1.10s/it]\n",
      "Export report to file: 100%|██████████| 1/1 [00:00<00:00, 250.17it/s]\n"
     ]
    }
   ],
   "source": [
    "profile_countries = ppr.ProfileReport(df_Countries, title='Pandas Profiling Report', minimal=True)\n",
    "profile_countries.to_file('../data/reports/Continent_Countries_TWH.html')"
   ]
  }
 ],
 "metadata": {
  "interpreter": {
   "hash": "cc43a0ce61d8e66137370f6f9e050b667a66650f691b6b25f6fefd16483ed709"
  },
  "kernelspec": {
   "display_name": "Python 3.8.2 ('ProyectAnalyticsenv': venv)",
   "language": "python",
   "name": "python3"
  },
  "language_info": {
   "codemirror_mode": {
    "name": "ipython",
    "version": 3
   },
   "file_extension": ".py",
   "mimetype": "text/x-python",
   "name": "python",
   "nbconvert_exporter": "python",
   "pygments_lexer": "ipython3",
   "version": "3.8.2"
  },
  "orig_nbformat": 4
 },
 "nbformat": 4,
 "nbformat_minor": 2
}
