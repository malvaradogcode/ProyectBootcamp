{
 "cells": [
  {
   "cell_type": "code",
   "execution_count": 2,
   "metadata": {},
   "outputs": [],
   "source": [
    "import pandas as pd\n",
    "import numpy as np\n",
    "import matplotlib.pyplot as plt\n",
    "import seaborn as sns\n",
    "import pandas_profiling as ppr\n",
    "from fitter import Fitter"
   ]
  },
  {
   "cell_type": "code",
   "execution_count": 3,
   "metadata": {},
   "outputs": [],
   "source": [
    "%matplotlib inline"
   ]
  },
  {
   "cell_type": "code",
   "execution_count": 4,
   "metadata": {},
   "outputs": [],
   "source": [
    "# Lectura de los datos\n",
    "df_Continent = pd.read_csv('../data\\Continent_Consumption_TWH.csv')\n",
    "df_Country =  pd.read_csv('../data/Country_Consumption_TWH.csv')\n",
    "df_non_renewable_total = pd.read_csv('../data/nonRenewablesTotalPowerGeneration.csv')\n",
    "df_renewable_total = pd.read_csv('../data/renewablesTotalPowerGeneration.csv')\n",
    "df_renewable_power_generation = pd.read_csv('../data/nonRenewablesTotalPowerGeneration.csv')\n",
    "df_top_Countries = pd.read_csv('../data/top20CountriesPowerGeneration.csv')"
   ]
  },
  {
   "cell_type": "code",
   "execution_count": 5,
   "metadata": {},
   "outputs": [
    {
     "data": {
      "text/html": [
       "<div>\n",
       "<style scoped>\n",
       "    .dataframe tbody tr th:only-of-type {\n",
       "        vertical-align: middle;\n",
       "    }\n",
       "\n",
       "    .dataframe tbody tr th {\n",
       "        vertical-align: top;\n",
       "    }\n",
       "\n",
       "    .dataframe thead th {\n",
       "        text-align: right;\n",
       "    }\n",
       "</style>\n",
       "<table border=\"1\" class=\"dataframe\">\n",
       "  <thead>\n",
       "    <tr style=\"text-align: right;\">\n",
       "      <th></th>\n",
       "      <th>Year</th>\n",
       "      <th>World</th>\n",
       "      <th>OECD</th>\n",
       "      <th>BRICS</th>\n",
       "      <th>Europe</th>\n",
       "      <th>North America</th>\n",
       "      <th>Latin America</th>\n",
       "      <th>Asia</th>\n",
       "      <th>Pacific</th>\n",
       "      <th>Africa</th>\n",
       "      <th>Middle-East</th>\n",
       "      <th>CIS</th>\n",
       "    </tr>\n",
       "  </thead>\n",
       "  <tbody>\n",
       "    <tr>\n",
       "      <th>0</th>\n",
       "      <td>1990</td>\n",
       "      <td>101855.54</td>\n",
       "      <td>52602.49</td>\n",
       "      <td>26621.07</td>\n",
       "      <td>20654.88</td>\n",
       "      <td>24667.23</td>\n",
       "      <td>5373.06</td>\n",
       "      <td>24574.19</td>\n",
       "      <td>1197.89</td>\n",
       "      <td>4407.77</td>\n",
       "      <td>2581.86</td>\n",
       "      <td>16049.40</td>\n",
       "    </tr>\n",
       "    <tr>\n",
       "      <th>1</th>\n",
       "      <td>1991</td>\n",
       "      <td>102483.56</td>\n",
       "      <td>53207.25</td>\n",
       "      <td>26434.99</td>\n",
       "      <td>20631.62</td>\n",
       "      <td>24841.68</td>\n",
       "      <td>5500.99</td>\n",
       "      <td>24783.53</td>\n",
       "      <td>1186.26</td>\n",
       "      <td>4535.70</td>\n",
       "      <td>2744.68</td>\n",
       "      <td>15898.21</td>\n",
       "    </tr>\n",
       "    <tr>\n",
       "      <th>2</th>\n",
       "      <td>1992</td>\n",
       "      <td>102588.23</td>\n",
       "      <td>53788.75</td>\n",
       "      <td>25993.05</td>\n",
       "      <td>20189.68</td>\n",
       "      <td>25341.77</td>\n",
       "      <td>5628.92</td>\n",
       "      <td>25690.67</td>\n",
       "      <td>1209.52</td>\n",
       "      <td>4582.22</td>\n",
       "      <td>3081.95</td>\n",
       "      <td>14339.79</td>\n",
       "    </tr>\n",
       "    <tr>\n",
       "      <th>3</th>\n",
       "      <td>1993</td>\n",
       "      <td>103646.56</td>\n",
       "      <td>54614.48</td>\n",
       "      <td>26283.80</td>\n",
       "      <td>20189.68</td>\n",
       "      <td>25830.23</td>\n",
       "      <td>5675.44</td>\n",
       "      <td>26876.93</td>\n",
       "      <td>1267.67</td>\n",
       "      <td>4721.78</td>\n",
       "      <td>3349.44</td>\n",
       "      <td>13246.57</td>\n",
       "    </tr>\n",
       "    <tr>\n",
       "      <th>4</th>\n",
       "      <td>1994</td>\n",
       "      <td>104449.03</td>\n",
       "      <td>55579.77</td>\n",
       "      <td>25993.05</td>\n",
       "      <td>20085.01</td>\n",
       "      <td>26365.21</td>\n",
       "      <td>5989.45</td>\n",
       "      <td>28098.08</td>\n",
       "      <td>1279.30</td>\n",
       "      <td>4803.19</td>\n",
       "      <td>3640.19</td>\n",
       "      <td>11606.74</td>\n",
       "    </tr>\n",
       "  </tbody>\n",
       "</table>\n",
       "</div>"
      ],
      "text/plain": [
       "   Year      World      OECD     BRICS    Europe  North America  \\\n",
       "0  1990  101855.54  52602.49  26621.07  20654.88       24667.23   \n",
       "1  1991  102483.56  53207.25  26434.99  20631.62       24841.68   \n",
       "2  1992  102588.23  53788.75  25993.05  20189.68       25341.77   \n",
       "3  1993  103646.56  54614.48  26283.80  20189.68       25830.23   \n",
       "4  1994  104449.03  55579.77  25993.05  20085.01       26365.21   \n",
       "\n",
       "   Latin America      Asia  Pacific   Africa  Middle-East       CIS  \n",
       "0        5373.06  24574.19  1197.89  4407.77      2581.86  16049.40  \n",
       "1        5500.99  24783.53  1186.26  4535.70      2744.68  15898.21  \n",
       "2        5628.92  25690.67  1209.52  4582.22      3081.95  14339.79  \n",
       "3        5675.44  26876.93  1267.67  4721.78      3349.44  13246.57  \n",
       "4        5989.45  28098.08  1279.30  4803.19      3640.19  11606.74  "
      ]
     },
     "execution_count": 5,
     "metadata": {},
     "output_type": "execute_result"
    }
   ],
   "source": [
    "df_Continent.head()"
   ]
  },
  {
   "cell_type": "code",
   "execution_count": 6,
   "metadata": {},
   "outputs": [],
   "source": [
    "continentes = list(set(df_Continent.columns) - set(['World','OECD','CIS','Middle-East','BRICS','Year']))\n",
    "organization_name = ['OECD','CIS','Middle-East','BRICS']"
   ]
  },
  {
   "cell_type": "code",
   "execution_count": 7,
   "metadata": {},
   "outputs": [],
   "source": [
    "# Notamos que los datos de Year se encuentran como los índices del dataset\n",
    "# Restablecemos el índica y hacemos que el índice anterior que correspondía a los años se agregue como columna\n",
    "df_Continent_years = df_Continent.reset_index()"
   ]
  },
  {
   "cell_type": "code",
   "execution_count": 8,
   "metadata": {},
   "outputs": [
    {
     "data": {
      "image/png": "[encoded data removed]",
      "text/plain": [
       "<Figure size 864x648 with 1 Axes>"
      ]
     },
     "metadata": {
      "needs_background": "light"
     },
     "output_type": "display_data"
    }
   ],
   "source": [
    "world_energy_consumption = df_Continent['World'].values\n",
    "years = df_Continent_years['Year'].values\n",
    "\n",
    "plt.figure(figsize=(12,9))\n",
    "plt.plot(years,world_energy_consumption)\n",
    "plt.xlabel('Years')\n",
    "plt.ylabel('TWh')\n",
    "plt.title('World energy consumption')\n",
    "plt.grid(True)\n",
    "plt.show()\n",
    "\n"
   ]
  },
  {
   "cell_type": "markdown",
   "metadata": {},
   "source": [
    "Podemos ver claramente que el consumo energético en el mundo aumenta cada año. Pero notamos dos cambios abruptos cerca del 2008-2009 y 2020. Podríamos asociar estos cambios a:\n",
    "- 2008-2009: Gran recesión o crisis económica iniciada en el 2008, pero que se evidenció en el 2009.\n",
    "- 2019-2020: En Noviembre del 2019 se encontró el primer caso de Covid19 y en el 2020 se delcaró pandemia mundial."
   ]
  },
  {
   "cell_type": "code",
   "execution_count": 13,
   "metadata": {},
   "outputs": [
    {
     "data": {
      "image/png": "[encoded data removed]",
      "text/plain": [
       "<Figure size 864x360 with 1 Axes>"
      ]
     },
     "metadata": {
      "needs_background": "light"
     },
     "output_type": "display_data"
    }
   ],
   "source": [
    "tasa_crecimiento = df_Continent['World'].pct_change().mul(100) \n",
    "\n",
    "plt.figure(figsize=(12,5))\n",
    "plt.plot(years,tasa_crecimiento, 'r')\n",
    "plt.xlabel('Years')\n",
    "plt.ylabel('%')\n",
    "plt.title('Tasa de crecimiento del consumo de energía mundial')\n",
    "plt.grid(True)\n",
    "plt.show()"
   ]
  },
  {
   "cell_type": "code",
   "execution_count": 10,
   "metadata": {},
   "outputs": [],
   "source": [
    "profile = ppr.ProfileReport(df_Continent, title='Pandas Profiling Report', minimal=True)"
   ]
  },
  {
   "cell_type": "code",
   "execution_count": 11,
   "metadata": {},
   "outputs": [
    {
     "name": "stderr",
     "output_type": "stream",
     "text": [
      "Summarize dataset: 100%|██████████| 18/18 [00:00<00:00, 48.79it/s, Completed]                     \n",
      "Generate report structure: 100%|██████████| 1/1 [00:04<00:00,  4.40s/it]\n",
      "Render HTML: 100%|██████████| 1/1 [00:00<00:00,  1.29it/s]\n",
      "Export report to file: 100%|██████████| 1/1 [00:00<00:00, 333.46it/s]\n"
     ]
    }
   ],
   "source": [
    "profile.to_file('../data/reports/Continent_Consumption_TWH.html')"
   ]
  },
  {
   "cell_type": "markdown",
   "metadata": {},
   "source": [
    "# Preguntas de investigacion\n",
    "\n",
    "1. ¿Qué países y organizaciones consumen más energía?\n",
    "1. ¿Qué países han tenido mayor crecimiento en la demanda energética y cuáles han tenido disminuciones de demanda?\n",
    "1. Cuales son las principales fuentes de generacion de energía de los países, continente, organización.\n",
    "1. ¿Qué fuentes de energía renovable son las de mayor crecimiento?\n",
    "1. ¿Qué países y organizaciones tienen fuentes de generación más limpias (Renvables o no Renovables)?\n",
    "\n",
    "Ejes de exploración: Consumo, Fuentes, crecimiento"
   ]
  },
  {
   "cell_type": "code",
   "execution_count": null,
   "metadata": {},
   "outputs": [],
   "source": []
  }
 ],
 "metadata": {
  "interpreter": {
   "hash": "cc43a0ce61d8e66137370f6f9e050b667a66650f691b6b25f6fefd16483ed709"
  },
  "kernelspec": {
   "display_name": "Python 3.8.2 ('ProyectAnalyticsenv': venv)",
   "language": "python",
   "name": "python3"
  },
  "language_info": {
   "codemirror_mode": {
    "name": "ipython",
    "version": 3
   },
   "file_extension": ".py",
   "mimetype": "text/x-python",
   "name": "python",
   "nbconvert_exporter": "python",
   "pygments_lexer": "ipython3",
   "version": "3.8.2"
  },
  "orig_nbformat": 4
 },
 "nbformat": 4,
 "nbformat_minor": 2
}
