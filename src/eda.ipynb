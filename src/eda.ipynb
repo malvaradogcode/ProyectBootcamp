{
 "cells": [
  {
   "cell_type": "code",
   "execution_count": 1,
   "metadata": {},
   "outputs": [],
   "source": [
    "import pandas as pd\n",
    "import numpy as np\n",
    "import matplotlib.pyplot as plt\n",
    "import seaborn as sns\n",
    "import pandas_profiling as ppr\n",
    "from fitter import Fitter"
   ]
  },
  {
   "cell_type": "code",
   "execution_count": 2,
   "metadata": {},
   "outputs": [],
   "source": [
    "%matplotlib inline"
   ]
  },
  {
   "cell_type": "code",
   "execution_count": 31,
   "metadata": {},
   "outputs": [],
   "source": [
    "# Lectura de los datos\n",
    "df_Continent = pd.read_csv('../data/Continent_Consumption_TWH.csv')\n",
    "df_Countries =  pd.read_csv('../data/Country_Consumption_TWH.csv')\n",
    "df_non_renewable_total = pd.read_csv('../data/nonRenewablesTotalPowerGeneration.csv')\n",
    "df_renewable_total = pd.read_csv('../data/renewablesTotalPowerGeneration.csv')\n",
    "df_renewable_power_generation = pd.read_csv('../data/nonRenewablesTotalPowerGeneration.csv')\n",
    "df_top_Countries = pd.read_csv('../data/top20CountriesPowerGeneration.csv')"
   ]
  },
  {
   "cell_type": "code",
   "execution_count": 4,
   "metadata": {},
   "outputs": [
    {
     "data": {
      "text/html": [
       "<div>\n",
       "<style scoped>\n",
       "    .dataframe tbody tr th:only-of-type {\n",
       "        vertical-align: middle;\n",
       "    }\n",
       "\n",
       "    .dataframe tbody tr th {\n",
       "        vertical-align: top;\n",
       "    }\n",
       "\n",
       "    .dataframe thead th {\n",
       "        text-align: right;\n",
       "    }\n",
       "</style>\n",
       "<table border=\"1\" class=\"dataframe\">\n",
       "  <thead>\n",
       "    <tr style=\"text-align: right;\">\n",
       "      <th></th>\n",
       "      <th>Year</th>\n",
       "      <th>World</th>\n",
       "      <th>OECD</th>\n",
       "      <th>BRICS</th>\n",
       "      <th>Europe</th>\n",
       "      <th>North America</th>\n",
       "      <th>Latin America</th>\n",
       "      <th>Asia</th>\n",
       "      <th>Pacific</th>\n",
       "      <th>Africa</th>\n",
       "      <th>Middle-East</th>\n",
       "      <th>CIS</th>\n",
       "    </tr>\n",
       "  </thead>\n",
       "  <tbody>\n",
       "    <tr>\n",
       "      <th>0</th>\n",
       "      <td>1990</td>\n",
       "      <td>101855.54</td>\n",
       "      <td>52602.49</td>\n",
       "      <td>26621.07</td>\n",
       "      <td>20654.88</td>\n",
       "      <td>24667.23</td>\n",
       "      <td>5373.06</td>\n",
       "      <td>24574.19</td>\n",
       "      <td>1197.89</td>\n",
       "      <td>4407.77</td>\n",
       "      <td>2581.86</td>\n",
       "      <td>16049.40</td>\n",
       "    </tr>\n",
       "    <tr>\n",
       "      <th>1</th>\n",
       "      <td>1991</td>\n",
       "      <td>102483.56</td>\n",
       "      <td>53207.25</td>\n",
       "      <td>26434.99</td>\n",
       "      <td>20631.62</td>\n",
       "      <td>24841.68</td>\n",
       "      <td>5500.99</td>\n",
       "      <td>24783.53</td>\n",
       "      <td>1186.26</td>\n",
       "      <td>4535.70</td>\n",
       "      <td>2744.68</td>\n",
       "      <td>15898.21</td>\n",
       "    </tr>\n",
       "    <tr>\n",
       "      <th>2</th>\n",
       "      <td>1992</td>\n",
       "      <td>102588.23</td>\n",
       "      <td>53788.75</td>\n",
       "      <td>25993.05</td>\n",
       "      <td>20189.68</td>\n",
       "      <td>25341.77</td>\n",
       "      <td>5628.92</td>\n",
       "      <td>25690.67</td>\n",
       "      <td>1209.52</td>\n",
       "      <td>4582.22</td>\n",
       "      <td>3081.95</td>\n",
       "      <td>14339.79</td>\n",
       "    </tr>\n",
       "    <tr>\n",
       "      <th>3</th>\n",
       "      <td>1993</td>\n",
       "      <td>103646.56</td>\n",
       "      <td>54614.48</td>\n",
       "      <td>26283.80</td>\n",
       "      <td>20189.68</td>\n",
       "      <td>25830.23</td>\n",
       "      <td>5675.44</td>\n",
       "      <td>26876.93</td>\n",
       "      <td>1267.67</td>\n",
       "      <td>4721.78</td>\n",
       "      <td>3349.44</td>\n",
       "      <td>13246.57</td>\n",
       "    </tr>\n",
       "    <tr>\n",
       "      <th>4</th>\n",
       "      <td>1994</td>\n",
       "      <td>104449.03</td>\n",
       "      <td>55579.77</td>\n",
       "      <td>25993.05</td>\n",
       "      <td>20085.01</td>\n",
       "      <td>26365.21</td>\n",
       "      <td>5989.45</td>\n",
       "      <td>28098.08</td>\n",
       "      <td>1279.30</td>\n",
       "      <td>4803.19</td>\n",
       "      <td>3640.19</td>\n",
       "      <td>11606.74</td>\n",
       "    </tr>\n",
       "  </tbody>\n",
       "</table>\n",
       "</div>"
      ],
      "text/plain": [
       "   Year      World      OECD     BRICS    Europe  North America  \\\n",
       "0  1990  101855.54  52602.49  26621.07  20654.88       24667.23   \n",
       "1  1991  102483.56  53207.25  26434.99  20631.62       24841.68   \n",
       "2  1992  102588.23  53788.75  25993.05  20189.68       25341.77   \n",
       "3  1993  103646.56  54614.48  26283.80  20189.68       25830.23   \n",
       "4  1994  104449.03  55579.77  25993.05  20085.01       26365.21   \n",
       "\n",
       "   Latin America      Asia  Pacific   Africa  Middle-East       CIS  \n",
       "0        5373.06  24574.19  1197.89  4407.77      2581.86  16049.40  \n",
       "1        5500.99  24783.53  1186.26  4535.70      2744.68  15898.21  \n",
       "2        5628.92  25690.67  1209.52  4582.22      3081.95  14339.79  \n",
       "3        5675.44  26876.93  1267.67  4721.78      3349.44  13246.57  \n",
       "4        5989.45  28098.08  1279.30  4803.19      3640.19  11606.74  "
      ]
     },
     "execution_count": 4,
     "metadata": {},
     "output_type": "execute_result"
    }
   ],
   "source": [
    "df_Continent.head()"
   ]
  },
  {
   "cell_type": "code",
   "execution_count": 5,
   "metadata": {},
   "outputs": [
    {
     "data": {
      "text/plain": [
       "count        31.000000\n",
       "mean     132792.465484\n",
       "std       22724.116555\n",
       "min      101855.540000\n",
       "25%      111176.985000\n",
       "50%      133582.180000\n",
       "75%      154853.450000\n",
       "max      167553.410000\n",
       "Name: World, dtype: float64"
      ]
     },
     "execution_count": 5,
     "metadata": {},
     "output_type": "execute_result"
    }
   ],
   "source": [
    "df_Continent['World'].describe()"
   ]
  },
  {
   "cell_type": "code",
   "execution_count": 6,
   "metadata": {},
   "outputs": [
    {
     "data": {
      "image/png": "[encoded data removed]",
      "text/plain": [
       "<Figure size 432x288 with 1 Axes>"
      ]
     },
     "metadata": {
      "needs_background": "light"
     },
     "output_type": "display_data"
    }
   ],
   "source": [
    "df_Continent['World'].hist()\n",
    "plt.show()"
   ]
  },
  {
   "cell_type": "code",
   "execution_count": 7,
   "metadata": {},
   "outputs": [
    {
     "data": {
      "text/plain": [
       "array([101.86, 111.24, 120.63, 130.01, 139.4 , 148.78, 158.17, 167.55])"
      ]
     },
     "execution_count": 7,
     "metadata": {},
     "output_type": "execute_result"
    }
   ],
   "source": [
    "count, bins = np.histogram(df_Continent['World'].values, bins=7)\n",
    "segmentos = np.round(bins/1000,2)\n",
    "segmentos"
   ]
  },
  {
   "cell_type": "code",
   "execution_count": 9,
   "metadata": {},
   "outputs": [
    {
     "data": {
      "text/plain": [
       "0    101.85554\n",
       "1    102.48356\n",
       "2    102.58823\n",
       "3    103.64656\n",
       "4    104.44903\n",
       "Name: World, dtype: float64"
      ]
     },
     "execution_count": 9,
     "metadata": {},
     "output_type": "execute_result"
    }
   ],
   "source": [
    "df_continent_normal = df_Continent['World']/1000\n",
    "df_continent_normal.head()"
   ]
  },
  {
   "cell_type": "code",
   "execution_count": 10,
   "metadata": {},
   "outputs": [
    {
     "data": {
      "text/plain": [
       "(100, 110]    7\n",
       "(150, 160]    6\n",
       "(110, 120]    5\n",
       "(140, 150]    4\n",
       "(160, 170]    4\n",
       "(120, 130]    3\n",
       "(130, 140]    2\n",
       "Name: World, dtype: int64"
      ]
     },
     "execution_count": 10,
     "metadata": {},
     "output_type": "execute_result"
    }
   ],
   "source": [
    "rangos_consumo = [100,110,120,130,140,150,160,170]\n",
    "consumo_segmentos = pd.cut(np.round(df_continent_normal,2), bins=rangos_consumo)\n",
    "consumo_segmentos_count = consumo_segmentos.value_counts()\n",
    "consumo_segmentos_count"
   ]
  },
  {
   "cell_type": "code",
   "execution_count": 11,
   "metadata": {},
   "outputs": [
    {
     "data": {
      "text/plain": [
       "<AxesSubplot:>"
      ]
     },
     "execution_count": 11,
     "metadata": {},
     "output_type": "execute_result"
    },
    {
     "data": {
      "image/png": "[encoded data removed]",
      "text/plain": [
       "<Figure size 432x288 with 1 Axes>"
      ]
     },
     "metadata": {
      "needs_background": "light"
     },
     "output_type": "display_data"
    }
   ],
   "source": [
    "consumo_segmentos_count.sort_index().plot(kind='bar')"
   ]
  },
  {
   "cell_type": "code",
   "execution_count": 12,
   "metadata": {},
   "outputs": [],
   "source": [
    "# Notamos que los datos de Year se encuentran como los índices del dataset\n",
    "# Restablecemos el índica y hacemos que el índice anterior que correspondía a los años se agregue como columna\n",
    "df_Continent_years = df_Continent.reset_index()"
   ]
  },
  {
   "cell_type": "code",
   "execution_count": 14,
   "metadata": {},
   "outputs": [
    {
     "data": {
      "image/png": "[encoded data removed]",
      "text/plain": [
       "<Figure size 864x648 with 1 Axes>"
      ]
     },
     "metadata": {
      "needs_background": "light"
     },
     "output_type": "display_data"
    }
   ],
   "source": [
    "world_energy_consumption = df_Continent['World'].values\n",
    "years = df_Continent_years['Year'].values\n",
    "\n",
    "plt.figure(figsize=(12,9))\n",
    "plt.plot(years,world_energy_consumption)\n",
    "plt.xlabel('Years')\n",
    "plt.ylabel('TWh')\n",
    "plt.title('World energy consumption')\n",
    "plt.grid(True)\n",
    "plt.show()\n",
    "\n"
   ]
  },
  {
   "cell_type": "markdown",
   "metadata": {},
   "source": [
    "Podemos ver claramente que el consumo energético en el mundo aumenta cada año. Pero notamos dos cambios abruptos cerca del 2008-2009 y 2020. Podríamos asociar estos cambios a:\n",
    "- 2008-2009: Gran recesión o crisis económica iniciada en el 2008, pero que se evidenció en el 2009.\n",
    "- 2019-2020: En Noviembre del 2019 se encontró el primer caso de Covid19 y en el 2020 se delcaró pandemia mundial."
   ]
  },
  {
   "cell_type": "code",
   "execution_count": 15,
   "metadata": {},
   "outputs": [
    {
     "data": {
      "image/png": "[encoded data removed]",
      "text/plain": [
       "<Figure size 864x360 with 1 Axes>"
      ]
     },
     "metadata": {
      "needs_background": "light"
     },
     "output_type": "display_data"
    }
   ],
   "source": [
    "tasa_crecimiento = df_Continent['World'].pct_change().mul(100) \n",
    "\n",
    "plt.figure(figsize=(12,5))\n",
    "plt.plot(years,tasa_crecimiento, 'r')\n",
    "plt.xlabel('Years')\n",
    "plt.ylabel('%')\n",
    "plt.title('Tasa de crecimiento del consumo de energía mundial')\n",
    "plt.grid(True)\n",
    "plt.show()"
   ]
  },
  {
   "cell_type": "code",
   "execution_count": 14,
   "metadata": {},
   "outputs": [],
   "source": [
    "profile = ppr.ProfileReport(df_Continent, title='Pandas Profiling Report', minimal=True)"
   ]
  },
  {
   "cell_type": "code",
   "execution_count": 15,
   "metadata": {},
   "outputs": [
    {
     "name": "stderr",
     "output_type": "stream",
     "text": [
      "Summarize dataset: 100%|██████████| 18/18 [00:00<00:00, 47.22it/s, Completed]                     \n",
      "Generate report structure: 100%|██████████| 1/1 [00:03<00:00,  3.57s/it]\n",
      "Render HTML: 100%|██████████| 1/1 [00:00<00:00,  1.86it/s]\n",
      "Export report to file: 100%|██████████| 1/1 [00:00<00:00, 500.45it/s]\n"
     ]
    }
   ],
   "source": [
    "profile.to_file('../data/reports/Continent_Consumption_TWH.html')"
   ]
  },
  {
   "cell_type": "markdown",
   "metadata": {},
   "source": [
    "# Preguntas de investigacion\n",
    "Identificamos 3 ejes de análisis:\n",
    "- Consumo energético\n",
    "- Fuentes de generación de energía\n",
    "- Crecimiento de demanda energética.\n",
    "\n",
    "### Consumo energético\n",
    "1. ¿Qué organizaciones consumen más energía?\n",
    "1. ¿Qué países consumen más energía?\n",
    "### Crecimiento de demanda energética\n",
    "1. ¿Qué países han tenido mayor crecimiento en la demanda energética y cuáles han tenido disminuciones de demanda?\n",
    "### Fuentes de generación de energía\n",
    "1. ¿Cuáles son las principales fuentes de generacion de energía de los países, continentes, organizaciónes?\n",
    "1. ¿Qué fuentes de energía renovable son las de mayor crecimiento?\n",
    "1. ¿Qué países y organizaciones tienen fuentes de generación más limpias (Renvables o no Renovables)?\n",
    "\n",
    "Ejes de exploración: Consumo, Fuentes, crecimiento"
   ]
  },
  {
   "cell_type": "markdown",
   "metadata": {},
   "source": [
    "## Consumo energético"
   ]
  },
  {
   "cell_type": "code",
   "execution_count": 16,
   "metadata": {},
   "outputs": [],
   "source": [
    "continentes = ['Year','Asia','Africa','Europe','North America','Latin America']\n",
    "organization_name = ['Year','OECD','CIS','Middle-East','BRICS']"
   ]
  },
  {
   "cell_type": "code",
   "execution_count": 17,
   "metadata": {},
   "outputs": [
    {
     "data": {
      "text/html": [
       "<div>\n",
       "<style scoped>\n",
       "    .dataframe tbody tr th:only-of-type {\n",
       "        vertical-align: middle;\n",
       "    }\n",
       "\n",
       "    .dataframe tbody tr th {\n",
       "        vertical-align: top;\n",
       "    }\n",
       "\n",
       "    .dataframe thead th {\n",
       "        text-align: right;\n",
       "    }\n",
       "</style>\n",
       "<table border=\"1\" class=\"dataframe\">\n",
       "  <thead>\n",
       "    <tr style=\"text-align: right;\">\n",
       "      <th></th>\n",
       "      <th>Year</th>\n",
       "      <th>OECD</th>\n",
       "      <th>CIS</th>\n",
       "      <th>Middle-East</th>\n",
       "      <th>BRICS</th>\n",
       "    </tr>\n",
       "  </thead>\n",
       "  <tbody>\n",
       "    <tr>\n",
       "      <th>0</th>\n",
       "      <td>1990</td>\n",
       "      <td>52602.49</td>\n",
       "      <td>16049.40</td>\n",
       "      <td>2581.86</td>\n",
       "      <td>26621.07</td>\n",
       "    </tr>\n",
       "    <tr>\n",
       "      <th>1</th>\n",
       "      <td>1991</td>\n",
       "      <td>53207.25</td>\n",
       "      <td>15898.21</td>\n",
       "      <td>2744.68</td>\n",
       "      <td>26434.99</td>\n",
       "    </tr>\n",
       "    <tr>\n",
       "      <th>2</th>\n",
       "      <td>1992</td>\n",
       "      <td>53788.75</td>\n",
       "      <td>14339.79</td>\n",
       "      <td>3081.95</td>\n",
       "      <td>25993.05</td>\n",
       "    </tr>\n",
       "    <tr>\n",
       "      <th>3</th>\n",
       "      <td>1993</td>\n",
       "      <td>54614.48</td>\n",
       "      <td>13246.57</td>\n",
       "      <td>3349.44</td>\n",
       "      <td>26283.80</td>\n",
       "    </tr>\n",
       "    <tr>\n",
       "      <th>4</th>\n",
       "      <td>1994</td>\n",
       "      <td>55579.77</td>\n",
       "      <td>11606.74</td>\n",
       "      <td>3640.19</td>\n",
       "      <td>25993.05</td>\n",
       "    </tr>\n",
       "  </tbody>\n",
       "</table>\n",
       "</div>"
      ],
      "text/plain": [
       "   Year      OECD       CIS  Middle-East     BRICS\n",
       "0  1990  52602.49  16049.40      2581.86  26621.07\n",
       "1  1991  53207.25  15898.21      2744.68  26434.99\n",
       "2  1992  53788.75  14339.79      3081.95  25993.05\n",
       "3  1993  54614.48  13246.57      3349.44  26283.80\n",
       "4  1994  55579.77  11606.74      3640.19  25993.05"
      ]
     },
     "execution_count": 17,
     "metadata": {},
     "output_type": "execute_result"
    }
   ],
   "source": [
    "# Consumo energético por Organizaciones\n",
    "df_org_cons = df_Continent_years[organization_name]\n",
    "df_org_cons.head()"
   ]
  },
  {
   "cell_type": "code",
   "execution_count": 18,
   "metadata": {},
   "outputs": [
    {
     "data": {
      "image/png": "[encoded data removed]",
      "text/plain": [
       "<Figure size 864x504 with 1 Axes>"
      ]
     },
     "metadata": {
      "needs_background": "light"
     },
     "output_type": "display_data"
    }
   ],
   "source": [
    "ax = df_org_cons.plot(x='Year',y=df_org_cons.columns[1:], figsize=(12,7))\n",
    "fig = ax.get_figure()\n",
    "ax.set_xticks(df_org_cons['Year'])\n",
    "ax.tick_params(axis='x', rotation=90)\n",
    "ax.legend(bbox_to_anchor=(1,1.02), loc='upper left')\n",
    "fig.tight_layout(pad=3)\n",
    "fig.suptitle('Organizations power consumption (TWh)', fontsize=25, y=1.02)\n",
    "\n",
    "plt.show()"
   ]
  },
  {
   "cell_type": "code",
   "execution_count": 19,
   "metadata": {},
   "outputs": [
    {
     "data": {
      "text/html": [
       "<div>\n",
       "<style scoped>\n",
       "    .dataframe tbody tr th:only-of-type {\n",
       "        vertical-align: middle;\n",
       "    }\n",
       "\n",
       "    .dataframe tbody tr th {\n",
       "        vertical-align: top;\n",
       "    }\n",
       "\n",
       "    .dataframe thead th {\n",
       "        text-align: right;\n",
       "    }\n",
       "</style>\n",
       "<table border=\"1\" class=\"dataframe\">\n",
       "  <thead>\n",
       "    <tr style=\"text-align: right;\">\n",
       "      <th></th>\n",
       "      <th>Year</th>\n",
       "      <th>Asia</th>\n",
       "      <th>Africa</th>\n",
       "      <th>Europe</th>\n",
       "      <th>North America</th>\n",
       "      <th>Latin America</th>\n",
       "    </tr>\n",
       "  </thead>\n",
       "  <tbody>\n",
       "    <tr>\n",
       "      <th>0</th>\n",
       "      <td>1990</td>\n",
       "      <td>24574.19</td>\n",
       "      <td>4407.77</td>\n",
       "      <td>20654.88</td>\n",
       "      <td>24667.23</td>\n",
       "      <td>5373.06</td>\n",
       "    </tr>\n",
       "    <tr>\n",
       "      <th>1</th>\n",
       "      <td>1991</td>\n",
       "      <td>24783.53</td>\n",
       "      <td>4535.70</td>\n",
       "      <td>20631.62</td>\n",
       "      <td>24841.68</td>\n",
       "      <td>5500.99</td>\n",
       "    </tr>\n",
       "    <tr>\n",
       "      <th>2</th>\n",
       "      <td>1992</td>\n",
       "      <td>25690.67</td>\n",
       "      <td>4582.22</td>\n",
       "      <td>20189.68</td>\n",
       "      <td>25341.77</td>\n",
       "      <td>5628.92</td>\n",
       "    </tr>\n",
       "    <tr>\n",
       "      <th>3</th>\n",
       "      <td>1993</td>\n",
       "      <td>26876.93</td>\n",
       "      <td>4721.78</td>\n",
       "      <td>20189.68</td>\n",
       "      <td>25830.23</td>\n",
       "      <td>5675.44</td>\n",
       "    </tr>\n",
       "    <tr>\n",
       "      <th>4</th>\n",
       "      <td>1994</td>\n",
       "      <td>28098.08</td>\n",
       "      <td>4803.19</td>\n",
       "      <td>20085.01</td>\n",
       "      <td>26365.21</td>\n",
       "      <td>5989.45</td>\n",
       "    </tr>\n",
       "  </tbody>\n",
       "</table>\n",
       "</div>"
      ],
      "text/plain": [
       "   Year      Asia   Africa    Europe  North America  Latin America\n",
       "0  1990  24574.19  4407.77  20654.88       24667.23        5373.06\n",
       "1  1991  24783.53  4535.70  20631.62       24841.68        5500.99\n",
       "2  1992  25690.67  4582.22  20189.68       25341.77        5628.92\n",
       "3  1993  26876.93  4721.78  20189.68       25830.23        5675.44\n",
       "4  1994  28098.08  4803.19  20085.01       26365.21        5989.45"
      ]
     },
     "execution_count": 19,
     "metadata": {},
     "output_type": "execute_result"
    }
   ],
   "source": [
    "# Consumo energético por Continentes\n",
    "df_cont_cons = df_Continent_years[continentes]\n",
    "df_cont_cons.head()"
   ]
  },
  {
   "cell_type": "code",
   "execution_count": 20,
   "metadata": {},
   "outputs": [
    {
     "data": {
      "text/plain": [
       "Text(0.5, 1.02, 'Continents power consumption (TWh)')"
      ]
     },
     "execution_count": 20,
     "metadata": {},
     "output_type": "execute_result"
    },
    {
     "data": {
      "image/png": "[encoded data removed]",
      "text/plain": [
       "<Figure size 864x504 with 1 Axes>"
      ]
     },
     "metadata": {
      "needs_background": "light"
     },
     "output_type": "display_data"
    }
   ],
   "source": [
    "ax1 = df_cont_cons.plot(x='Year',y=df_cont_cons.columns[1:], figsize=(12,7))\n",
    "fig1 = ax1.get_figure()\n",
    "ax1.set_xticks(df_org_cons['Year'])\n",
    "ax1.tick_params(axis='x', rotation=90)\n",
    "ax1.legend(bbox_to_anchor=(1,1.02), loc='upper left')\n",
    "fig1.tight_layout(pad=3)\n",
    "fig1.suptitle('Continents power consumption (TWh)', fontsize=25, y=1.02)\n"
   ]
  },
  {
   "cell_type": "code",
   "execution_count": 21,
   "metadata": {},
   "outputs": [
    {
     "name": "stderr",
     "output_type": "stream",
     "text": [
      "Summarize dataset: 100%|██████████| 51/51 [00:00<00:00, 148.29it/s, Completed]                            \n",
      "Generate report structure: 100%|██████████| 1/1 [00:11<00:00, 11.37s/it]\n",
      "Render HTML: 100%|██████████| 1/1 [00:01<00:00,  1.07s/it]\n",
      "Export report to file: 100%|██████████| 1/1 [00:00<00:00, 200.14it/s]\n"
     ]
    }
   ],
   "source": [
    "profile_countries = ppr.ProfileReport(df_Countries, title='Pandas Profiling Report', minimal=True)\n",
    "profile_countries.to_file('../data/reports/Continent_Countries_TWH.html')"
   ]
  },
  {
   "cell_type": "code",
   "execution_count": 21,
   "metadata": {},
   "outputs": [
    {
     "data": {
      "text/html": [
       "<div>\n",
       "<style scoped>\n",
       "    .dataframe tbody tr th:only-of-type {\n",
       "        vertical-align: middle;\n",
       "    }\n",
       "\n",
       "    .dataframe tbody tr th {\n",
       "        vertical-align: top;\n",
       "    }\n",
       "\n",
       "    .dataframe thead th {\n",
       "        text-align: right;\n",
       "    }\n",
       "</style>\n",
       "<table border=\"1\" class=\"dataframe\">\n",
       "  <thead>\n",
       "    <tr style=\"text-align: right;\">\n",
       "      <th></th>\n",
       "      <th>Year</th>\n",
       "      <th>China</th>\n",
       "      <th>United States</th>\n",
       "      <th>Brazil</th>\n",
       "      <th>Belgium</th>\n",
       "      <th>Czechia</th>\n",
       "      <th>France</th>\n",
       "      <th>Germany</th>\n",
       "      <th>Italy</th>\n",
       "      <th>Netherlands</th>\n",
       "      <th>...</th>\n",
       "      <th>Australia</th>\n",
       "      <th>New Zealand</th>\n",
       "      <th>Algeria</th>\n",
       "      <th>Egypt</th>\n",
       "      <th>Nigeria</th>\n",
       "      <th>South Africa</th>\n",
       "      <th>Iran</th>\n",
       "      <th>Kuwait</th>\n",
       "      <th>Saudi Arabia</th>\n",
       "      <th>United Arab Emirates</th>\n",
       "    </tr>\n",
       "  </thead>\n",
       "  <tbody>\n",
       "    <tr>\n",
       "      <th>28</th>\n",
       "      <td>2018.0</td>\n",
       "      <td>3201.0</td>\n",
       "      <td>2236.0</td>\n",
       "      <td>288.0</td>\n",
       "      <td>53.0</td>\n",
       "      <td>43.0</td>\n",
       "      <td>246.0</td>\n",
       "      <td>302.0</td>\n",
       "      <td>151.0</td>\n",
       "      <td>73.0</td>\n",
       "      <td>...</td>\n",
       "      <td>128.0</td>\n",
       "      <td>20.0</td>\n",
       "      <td>61.0</td>\n",
       "      <td>96.0</td>\n",
       "      <td>160.0</td>\n",
       "      <td>134.0</td>\n",
       "      <td>266.0</td>\n",
       "      <td>34.0</td>\n",
       "      <td>214.0</td>\n",
       "      <td>78.0</td>\n",
       "    </tr>\n",
       "    <tr>\n",
       "      <th>29</th>\n",
       "      <td>2019.0</td>\n",
       "      <td>3309.0</td>\n",
       "      <td>2214.0</td>\n",
       "      <td>293.0</td>\n",
       "      <td>55.0</td>\n",
       "      <td>43.0</td>\n",
       "      <td>243.0</td>\n",
       "      <td>294.0</td>\n",
       "      <td>149.0</td>\n",
       "      <td>72.0</td>\n",
       "      <td>...</td>\n",
       "      <td>129.0</td>\n",
       "      <td>21.0</td>\n",
       "      <td>65.0</td>\n",
       "      <td>97.0</td>\n",
       "      <td>157.0</td>\n",
       "      <td>129.0</td>\n",
       "      <td>269.0</td>\n",
       "      <td>36.0</td>\n",
       "      <td>215.0</td>\n",
       "      <td>83.0</td>\n",
       "    </tr>\n",
       "    <tr>\n",
       "      <th>30</th>\n",
       "      <td>2020.0</td>\n",
       "      <td>3381.0</td>\n",
       "      <td>2046.0</td>\n",
       "      <td>286.0</td>\n",
       "      <td>51.0</td>\n",
       "      <td>39.0</td>\n",
       "      <td>217.0</td>\n",
       "      <td>275.0</td>\n",
       "      <td>137.0</td>\n",
       "      <td>70.0</td>\n",
       "      <td>...</td>\n",
       "      <td>126.0</td>\n",
       "      <td>21.0</td>\n",
       "      <td>59.0</td>\n",
       "      <td>92.0</td>\n",
       "      <td>159.0</td>\n",
       "      <td>124.0</td>\n",
       "      <td>268.0</td>\n",
       "      <td>38.0</td>\n",
       "      <td>209.0</td>\n",
       "      <td>81.0</td>\n",
       "    </tr>\n",
       "    <tr>\n",
       "      <th>31</th>\n",
       "      <td>NaN</td>\n",
       "      <td>NaN</td>\n",
       "      <td>NaN</td>\n",
       "      <td>NaN</td>\n",
       "      <td>NaN</td>\n",
       "      <td>NaN</td>\n",
       "      <td>NaN</td>\n",
       "      <td>NaN</td>\n",
       "      <td>NaN</td>\n",
       "      <td>NaN</td>\n",
       "      <td>...</td>\n",
       "      <td>NaN</td>\n",
       "      <td>NaN</td>\n",
       "      <td>NaN</td>\n",
       "      <td>NaN</td>\n",
       "      <td>NaN</td>\n",
       "      <td>NaN</td>\n",
       "      <td>NaN</td>\n",
       "      <td>NaN</td>\n",
       "      <td>NaN</td>\n",
       "      <td>NaN</td>\n",
       "    </tr>\n",
       "    <tr>\n",
       "      <th>32</th>\n",
       "      <td>NaN</td>\n",
       "      <td>NaN</td>\n",
       "      <td>NaN</td>\n",
       "      <td>NaN</td>\n",
       "      <td>NaN</td>\n",
       "      <td>NaN</td>\n",
       "      <td>NaN</td>\n",
       "      <td>NaN</td>\n",
       "      <td>NaN</td>\n",
       "      <td>NaN</td>\n",
       "      <td>...</td>\n",
       "      <td>NaN</td>\n",
       "      <td>NaN</td>\n",
       "      <td>NaN</td>\n",
       "      <td>NaN</td>\n",
       "      <td>NaN</td>\n",
       "      <td>NaN</td>\n",
       "      <td>NaN</td>\n",
       "      <td>NaN</td>\n",
       "      <td>NaN</td>\n",
       "      <td>NaN</td>\n",
       "    </tr>\n",
       "  </tbody>\n",
       "</table>\n",
       "<p>5 rows × 45 columns</p>\n",
       "</div>"
      ],
      "text/plain": [
       "      Year   China  United States  Brazil  Belgium  Czechia  France  Germany  \\\n",
       "28  2018.0  3201.0         2236.0   288.0     53.0     43.0   246.0    302.0   \n",
       "29  2019.0  3309.0         2214.0   293.0     55.0     43.0   243.0    294.0   \n",
       "30  2020.0  3381.0         2046.0   286.0     51.0     39.0   217.0    275.0   \n",
       "31     NaN     NaN            NaN     NaN      NaN      NaN     NaN      NaN   \n",
       "32     NaN     NaN            NaN     NaN      NaN      NaN     NaN      NaN   \n",
       "\n",
       "    Italy  Netherlands  ...  Australia  New Zealand  Algeria  Egypt  Nigeria  \\\n",
       "28  151.0         73.0  ...      128.0         20.0     61.0   96.0    160.0   \n",
       "29  149.0         72.0  ...      129.0         21.0     65.0   97.0    157.0   \n",
       "30  137.0         70.0  ...      126.0         21.0     59.0   92.0    159.0   \n",
       "31    NaN          NaN  ...        NaN          NaN      NaN    NaN      NaN   \n",
       "32    NaN          NaN  ...        NaN          NaN      NaN    NaN      NaN   \n",
       "\n",
       "    South Africa   Iran  Kuwait  Saudi Arabia  United Arab Emirates  \n",
       "28         134.0  266.0    34.0         214.0                  78.0  \n",
       "29         129.0  269.0    36.0         215.0                  83.0  \n",
       "30         124.0  268.0    38.0         209.0                  81.0  \n",
       "31           NaN    NaN     NaN           NaN                   NaN  \n",
       "32           NaN    NaN     NaN           NaN                   NaN  \n",
       "\n",
       "[5 rows x 45 columns]"
      ]
     },
     "execution_count": 21,
     "metadata": {},
     "output_type": "execute_result"
    }
   ],
   "source": [
    "df_Countries.tail()"
   ]
  },
  {
   "cell_type": "code",
   "execution_count": 22,
   "metadata": {},
   "outputs": [
    {
     "name": "stdout",
     "output_type": "stream",
     "text": [
      "2\n",
      "6.06 %\n"
     ]
    }
   ],
   "source": [
    "df_Countries_na = df_Countries['China'].isna().sum()\n",
    "print(df_Countries_na)\n",
    "print(round(df_Countries_na/df_Countries.shape[0]*100,2),'%')"
   ]
  },
  {
   "cell_type": "code",
   "execution_count": 23,
   "metadata": {},
   "outputs": [
    {
     "data": {
      "text/plain": [
       "Year                    2\n",
       "China                   2\n",
       "United States           2\n",
       "Brazil                  2\n",
       "Belgium                 2\n",
       "Czechia                 2\n",
       "France                  2\n",
       "Germany                 2\n",
       "Italy                   2\n",
       "Netherlands             2\n",
       "Poland                  2\n",
       "Portugal                2\n",
       "Romania                 2\n",
       "Spain                   2\n",
       "Sweden                  2\n",
       "United Kingdom          2\n",
       "Norway                  2\n",
       "Turkey                  2\n",
       "Kazakhstan              2\n",
       "Russia                  2\n",
       "Ukraine                 2\n",
       "Uzbekistan              2\n",
       "Argentina               2\n",
       "Canada                  2\n",
       "Chile                   2\n",
       "Colombia                2\n",
       "Mexico                  2\n",
       "Venezuela               2\n",
       "Indonesia               2\n",
       "Japan                   2\n",
       "Malaysia                2\n",
       "South Korea             2\n",
       "Taiwan                  2\n",
       "Thailand                2\n",
       "India                   2\n",
       "Australia               2\n",
       "New Zealand             2\n",
       "Algeria                 2\n",
       "Egypt                   2\n",
       "Nigeria                 2\n",
       "South Africa            2\n",
       "Iran                    2\n",
       "Kuwait                  2\n",
       "Saudi Arabia            2\n",
       "United Arab Emirates    2\n",
       "dtype: int64"
      ]
     },
     "execution_count": 23,
     "metadata": {},
     "output_type": "execute_result"
    }
   ],
   "source": [
    "df_Countries.isnull().sum()"
   ]
  },
  {
   "cell_type": "code",
   "execution_count": 24,
   "metadata": {},
   "outputs": [
    {
     "data": {
      "text/html": [
       "<div>\n",
       "<style scoped>\n",
       "    .dataframe tbody tr th:only-of-type {\n",
       "        vertical-align: middle;\n",
       "    }\n",
       "\n",
       "    .dataframe tbody tr th {\n",
       "        vertical-align: top;\n",
       "    }\n",
       "\n",
       "    .dataframe thead th {\n",
       "        text-align: right;\n",
       "    }\n",
       "</style>\n",
       "<table border=\"1\" class=\"dataframe\">\n",
       "  <thead>\n",
       "    <tr style=\"text-align: right;\">\n",
       "      <th></th>\n",
       "      <th>Year</th>\n",
       "      <th>China</th>\n",
       "      <th>United States</th>\n",
       "      <th>Brazil</th>\n",
       "      <th>Belgium</th>\n",
       "      <th>Czechia</th>\n",
       "      <th>France</th>\n",
       "      <th>Germany</th>\n",
       "      <th>Italy</th>\n",
       "      <th>Netherlands</th>\n",
       "      <th>...</th>\n",
       "      <th>Australia</th>\n",
       "      <th>New Zealand</th>\n",
       "      <th>Algeria</th>\n",
       "      <th>Egypt</th>\n",
       "      <th>Nigeria</th>\n",
       "      <th>South Africa</th>\n",
       "      <th>Iran</th>\n",
       "      <th>Kuwait</th>\n",
       "      <th>Saudi Arabia</th>\n",
       "      <th>United Arab Emirates</th>\n",
       "    </tr>\n",
       "  </thead>\n",
       "  <tbody>\n",
       "    <tr>\n",
       "      <th>31</th>\n",
       "      <td>NaN</td>\n",
       "      <td>NaN</td>\n",
       "      <td>NaN</td>\n",
       "      <td>NaN</td>\n",
       "      <td>NaN</td>\n",
       "      <td>NaN</td>\n",
       "      <td>NaN</td>\n",
       "      <td>NaN</td>\n",
       "      <td>NaN</td>\n",
       "      <td>NaN</td>\n",
       "      <td>...</td>\n",
       "      <td>NaN</td>\n",
       "      <td>NaN</td>\n",
       "      <td>NaN</td>\n",
       "      <td>NaN</td>\n",
       "      <td>NaN</td>\n",
       "      <td>NaN</td>\n",
       "      <td>NaN</td>\n",
       "      <td>NaN</td>\n",
       "      <td>NaN</td>\n",
       "      <td>NaN</td>\n",
       "    </tr>\n",
       "    <tr>\n",
       "      <th>32</th>\n",
       "      <td>NaN</td>\n",
       "      <td>NaN</td>\n",
       "      <td>NaN</td>\n",
       "      <td>NaN</td>\n",
       "      <td>NaN</td>\n",
       "      <td>NaN</td>\n",
       "      <td>NaN</td>\n",
       "      <td>NaN</td>\n",
       "      <td>NaN</td>\n",
       "      <td>NaN</td>\n",
       "      <td>...</td>\n",
       "      <td>NaN</td>\n",
       "      <td>NaN</td>\n",
       "      <td>NaN</td>\n",
       "      <td>NaN</td>\n",
       "      <td>NaN</td>\n",
       "      <td>NaN</td>\n",
       "      <td>NaN</td>\n",
       "      <td>NaN</td>\n",
       "      <td>NaN</td>\n",
       "      <td>NaN</td>\n",
       "    </tr>\n",
       "  </tbody>\n",
       "</table>\n",
       "<p>2 rows × 45 columns</p>\n",
       "</div>"
      ],
      "text/plain": [
       "    Year  China  United States  Brazil  Belgium  Czechia  France  Germany  \\\n",
       "31   NaN    NaN            NaN     NaN      NaN      NaN     NaN      NaN   \n",
       "32   NaN    NaN            NaN     NaN      NaN      NaN     NaN      NaN   \n",
       "\n",
       "    Italy  Netherlands  ...  Australia  New Zealand  Algeria  Egypt  Nigeria  \\\n",
       "31    NaN          NaN  ...        NaN          NaN      NaN    NaN      NaN   \n",
       "32    NaN          NaN  ...        NaN          NaN      NaN    NaN      NaN   \n",
       "\n",
       "    South Africa  Iran  Kuwait  Saudi Arabia  United Arab Emirates  \n",
       "31           NaN   NaN     NaN           NaN                   NaN  \n",
       "32           NaN   NaN     NaN           NaN                   NaN  \n",
       "\n",
       "[2 rows x 45 columns]"
      ]
     },
     "execution_count": 24,
     "metadata": {},
     "output_type": "execute_result"
    }
   ],
   "source": [
    "nan_rows = df_Countries[df_Countries.isnull().any(1)]\n",
    "nan_rows"
   ]
  },
  {
   "cell_type": "code",
   "execution_count": 25,
   "metadata": {},
   "outputs": [
    {
     "data": {
      "text/html": [
       "<div>\n",
       "<style scoped>\n",
       "    .dataframe tbody tr th:only-of-type {\n",
       "        vertical-align: middle;\n",
       "    }\n",
       "\n",
       "    .dataframe tbody tr th {\n",
       "        vertical-align: top;\n",
       "    }\n",
       "\n",
       "    .dataframe thead th {\n",
       "        text-align: right;\n",
       "    }\n",
       "</style>\n",
       "<table border=\"1\" class=\"dataframe\">\n",
       "  <thead>\n",
       "    <tr style=\"text-align: right;\">\n",
       "      <th></th>\n",
       "      <th>Year</th>\n",
       "      <th>China</th>\n",
       "      <th>United States</th>\n",
       "      <th>Brazil</th>\n",
       "      <th>Belgium</th>\n",
       "      <th>Czechia</th>\n",
       "      <th>France</th>\n",
       "      <th>Germany</th>\n",
       "      <th>Italy</th>\n",
       "      <th>Netherlands</th>\n",
       "      <th>...</th>\n",
       "      <th>Australia</th>\n",
       "      <th>New Zealand</th>\n",
       "      <th>Algeria</th>\n",
       "      <th>Egypt</th>\n",
       "      <th>Nigeria</th>\n",
       "      <th>South Africa</th>\n",
       "      <th>Iran</th>\n",
       "      <th>Kuwait</th>\n",
       "      <th>Saudi Arabia</th>\n",
       "      <th>United Arab Emirates</th>\n",
       "    </tr>\n",
       "  </thead>\n",
       "  <tbody>\n",
       "    <tr>\n",
       "      <th>26</th>\n",
       "      <td>2016.0</td>\n",
       "      <td>2977.0</td>\n",
       "      <td>2168.0</td>\n",
       "      <td>287.0</td>\n",
       "      <td>56.0</td>\n",
       "      <td>41.0</td>\n",
       "      <td>248.0</td>\n",
       "      <td>310.0</td>\n",
       "      <td>151.0</td>\n",
       "      <td>74.0</td>\n",
       "      <td>...</td>\n",
       "      <td>127.0</td>\n",
       "      <td>21.0</td>\n",
       "      <td>56.0</td>\n",
       "      <td>88.0</td>\n",
       "      <td>150.0</td>\n",
       "      <td>135.0</td>\n",
       "      <td>246.0</td>\n",
       "      <td>36.0</td>\n",
       "      <td>215.0</td>\n",
       "      <td>79.0</td>\n",
       "    </tr>\n",
       "    <tr>\n",
       "      <th>27</th>\n",
       "      <td>2017.0</td>\n",
       "      <td>3070.0</td>\n",
       "      <td>2161.0</td>\n",
       "      <td>292.0</td>\n",
       "      <td>55.0</td>\n",
       "      <td>43.0</td>\n",
       "      <td>247.0</td>\n",
       "      <td>311.0</td>\n",
       "      <td>154.0</td>\n",
       "      <td>74.0</td>\n",
       "      <td>...</td>\n",
       "      <td>128.0</td>\n",
       "      <td>21.0</td>\n",
       "      <td>57.0</td>\n",
       "      <td>93.0</td>\n",
       "      <td>152.0</td>\n",
       "      <td>136.0</td>\n",
       "      <td>262.0</td>\n",
       "      <td>34.0</td>\n",
       "      <td>219.0</td>\n",
       "      <td>78.0</td>\n",
       "    </tr>\n",
       "    <tr>\n",
       "      <th>28</th>\n",
       "      <td>2018.0</td>\n",
       "      <td>3201.0</td>\n",
       "      <td>2236.0</td>\n",
       "      <td>288.0</td>\n",
       "      <td>53.0</td>\n",
       "      <td>43.0</td>\n",
       "      <td>246.0</td>\n",
       "      <td>302.0</td>\n",
       "      <td>151.0</td>\n",
       "      <td>73.0</td>\n",
       "      <td>...</td>\n",
       "      <td>128.0</td>\n",
       "      <td>20.0</td>\n",
       "      <td>61.0</td>\n",
       "      <td>96.0</td>\n",
       "      <td>160.0</td>\n",
       "      <td>134.0</td>\n",
       "      <td>266.0</td>\n",
       "      <td>34.0</td>\n",
       "      <td>214.0</td>\n",
       "      <td>78.0</td>\n",
       "    </tr>\n",
       "    <tr>\n",
       "      <th>29</th>\n",
       "      <td>2019.0</td>\n",
       "      <td>3309.0</td>\n",
       "      <td>2214.0</td>\n",
       "      <td>293.0</td>\n",
       "      <td>55.0</td>\n",
       "      <td>43.0</td>\n",
       "      <td>243.0</td>\n",
       "      <td>294.0</td>\n",
       "      <td>149.0</td>\n",
       "      <td>72.0</td>\n",
       "      <td>...</td>\n",
       "      <td>129.0</td>\n",
       "      <td>21.0</td>\n",
       "      <td>65.0</td>\n",
       "      <td>97.0</td>\n",
       "      <td>157.0</td>\n",
       "      <td>129.0</td>\n",
       "      <td>269.0</td>\n",
       "      <td>36.0</td>\n",
       "      <td>215.0</td>\n",
       "      <td>83.0</td>\n",
       "    </tr>\n",
       "    <tr>\n",
       "      <th>30</th>\n",
       "      <td>2020.0</td>\n",
       "      <td>3381.0</td>\n",
       "      <td>2046.0</td>\n",
       "      <td>286.0</td>\n",
       "      <td>51.0</td>\n",
       "      <td>39.0</td>\n",
       "      <td>217.0</td>\n",
       "      <td>275.0</td>\n",
       "      <td>137.0</td>\n",
       "      <td>70.0</td>\n",
       "      <td>...</td>\n",
       "      <td>126.0</td>\n",
       "      <td>21.0</td>\n",
       "      <td>59.0</td>\n",
       "      <td>92.0</td>\n",
       "      <td>159.0</td>\n",
       "      <td>124.0</td>\n",
       "      <td>268.0</td>\n",
       "      <td>38.0</td>\n",
       "      <td>209.0</td>\n",
       "      <td>81.0</td>\n",
       "    </tr>\n",
       "  </tbody>\n",
       "</table>\n",
       "<p>5 rows × 45 columns</p>\n",
       "</div>"
      ],
      "text/plain": [
       "      Year   China  United States  Brazil  Belgium  Czechia  France  Germany  \\\n",
       "26  2016.0  2977.0         2168.0   287.0     56.0     41.0   248.0    310.0   \n",
       "27  2017.0  3070.0         2161.0   292.0     55.0     43.0   247.0    311.0   \n",
       "28  2018.0  3201.0         2236.0   288.0     53.0     43.0   246.0    302.0   \n",
       "29  2019.0  3309.0         2214.0   293.0     55.0     43.0   243.0    294.0   \n",
       "30  2020.0  3381.0         2046.0   286.0     51.0     39.0   217.0    275.0   \n",
       "\n",
       "    Italy  Netherlands  ...  Australia  New Zealand  Algeria  Egypt  Nigeria  \\\n",
       "26  151.0         74.0  ...      127.0         21.0     56.0   88.0    150.0   \n",
       "27  154.0         74.0  ...      128.0         21.0     57.0   93.0    152.0   \n",
       "28  151.0         73.0  ...      128.0         20.0     61.0   96.0    160.0   \n",
       "29  149.0         72.0  ...      129.0         21.0     65.0   97.0    157.0   \n",
       "30  137.0         70.0  ...      126.0         21.0     59.0   92.0    159.0   \n",
       "\n",
       "    South Africa   Iran  Kuwait  Saudi Arabia  United Arab Emirates  \n",
       "26         135.0  246.0    36.0         215.0                  79.0  \n",
       "27         136.0  262.0    34.0         219.0                  78.0  \n",
       "28         134.0  266.0    34.0         214.0                  78.0  \n",
       "29         129.0  269.0    36.0         215.0                  83.0  \n",
       "30         124.0  268.0    38.0         209.0                  81.0  \n",
       "\n",
       "[5 rows x 45 columns]"
      ]
     },
     "execution_count": 25,
     "metadata": {},
     "output_type": "execute_result"
    }
   ],
   "source": [
    "# Hemos localizado las filas con los valores NaN, se trata de las dos ultimas filas de cada variable\n",
    "df_Countries_sin_nan = df_Countries.dropna(how='any')\n",
    "df_Countries_sin_nan.tail()"
   ]
  },
  {
   "cell_type": "code",
   "execution_count": 26,
   "metadata": {},
   "outputs": [
    {
     "data": {
      "text/plain": [
       "Iran                     169.064516\n",
       "Uzbekistan                46.774194\n",
       "Germany                  327.903226\n",
       "Mexico                   163.516129\n",
       "Portugal                  22.225806\n",
       "Australia                112.645161\n",
       "Canada                   259.516129\n",
       "Japan                    476.741935\n",
       "Argentina                 66.064516\n",
       "New Zealand               17.612903\n",
       "Egypt                     60.935484\n",
       "Malaysia                  61.225806\n",
       "Ukraine                  139.064516\n",
       "Nigeria                  108.967742\n",
       "Colombia                  30.677419\n",
       "Russia                   691.677419\n",
       "Poland                    97.419355\n",
       "Thailand                  95.612903\n",
       "France                   251.193548\n",
       "South Korea              212.419355\n",
       "United States           2167.451613\n",
       "Belgium                   54.903226\n",
       "Chile                     28.032258\n",
       "Norway                    27.064516\n",
       "Kuwait                    23.161290\n",
       "Taiwan                    89.032258\n",
       "Venezuela                 56.290323\n",
       "Algeria                   37.258065\n",
       "Turkey                    92.612903\n",
       "Romania                   39.193548\n",
       "Kazakhstan                59.774194\n",
       "South Africa             118.193548\n",
       "United Kingdom           204.322581\n",
       "China                   1923.322581\n",
       "Brazil                   223.451613\n",
       "Spain                    117.838710\n",
       "United Arab Emirates      49.064516\n",
       "Saudi Arabia             138.387097\n",
       "Netherlands               74.870968\n",
       "Sweden                    49.258065\n",
       "Czechia                   43.258065\n",
       "India                    580.000000\n",
       "Indonesia                171.741935\n",
       "Italy                    162.903226\n",
       "dtype: float64"
      ]
     },
     "execution_count": 26,
     "metadata": {},
     "output_type": "execute_result"
    }
   ],
   "source": [
    "only_countries = list(set(df_Countries_sin_nan.columns) - set(['Year']))\n",
    "\n",
    "\n",
    "df_Countries_mean = df_Countries_sin_nan[only_countries].mean()\n",
    "df_Countries_mean"
   ]
  },
  {
   "cell_type": "code",
   "execution_count": 27,
   "metadata": {},
   "outputs": [
    {
     "data": {
      "image/png": "[encoded data removed]",
      "text/plain": [
       "<Figure size 432x288 with 1 Axes>"
      ]
     },
     "metadata": {
      "needs_background": "light"
     },
     "output_type": "display_data"
    }
   ],
   "source": [
    "plt.boxplot(df_Countries_mean)\n",
    "plt.show()"
   ]
  },
  {
   "cell_type": "code",
   "execution_count": 28,
   "metadata": {},
   "outputs": [
    {
     "name": "stdout",
     "output_type": "stream",
     "text": [
      "225.9692082111437\n"
     ]
    }
   ],
   "source": [
    "df_med = df_Countries_mean.mean()\n",
    "print(df_med)"
   ]
  },
  {
   "cell_type": "code",
   "execution_count": 29,
   "metadata": {},
   "outputs": [
    {
     "data": {
      "text/html": [
       "<div>\n",
       "<style scoped>\n",
       "    .dataframe tbody tr th:only-of-type {\n",
       "        vertical-align: middle;\n",
       "    }\n",
       "\n",
       "    .dataframe tbody tr th {\n",
       "        vertical-align: top;\n",
       "    }\n",
       "\n",
       "    .dataframe thead th {\n",
       "        text-align: right;\n",
       "    }\n",
       "</style>\n",
       "<table border=\"1\" class=\"dataframe\">\n",
       "  <thead>\n",
       "    <tr style=\"text-align: right;\">\n",
       "      <th></th>\n",
       "      <th>Year</th>\n",
       "      <th>China</th>\n",
       "      <th>United States</th>\n",
       "      <th>Brazil</th>\n",
       "      <th>France</th>\n",
       "      <th>Germany</th>\n",
       "      <th>Russia</th>\n",
       "      <th>Canada</th>\n",
       "      <th>Japan</th>\n",
       "      <th>South Korea</th>\n",
       "      <th>India</th>\n",
       "    </tr>\n",
       "  </thead>\n",
       "  <tbody>\n",
       "    <tr>\n",
       "      <th>0</th>\n",
       "      <td>1990.0</td>\n",
       "      <td>874.0</td>\n",
       "      <td>1910.0</td>\n",
       "      <td>141.0</td>\n",
       "      <td>225.0</td>\n",
       "      <td>351.0</td>\n",
       "      <td>879.0</td>\n",
       "      <td>211.0</td>\n",
       "      <td>440.0</td>\n",
       "      <td>94.0</td>\n",
       "      <td>306.0</td>\n",
       "    </tr>\n",
       "    <tr>\n",
       "      <th>1</th>\n",
       "      <td>1991.0</td>\n",
       "      <td>848.0</td>\n",
       "      <td>1925.0</td>\n",
       "      <td>143.0</td>\n",
       "      <td>237.0</td>\n",
       "      <td>344.0</td>\n",
       "      <td>871.0</td>\n",
       "      <td>210.0</td>\n",
       "      <td>445.0</td>\n",
       "      <td>101.0</td>\n",
       "      <td>318.0</td>\n",
       "    </tr>\n",
       "    <tr>\n",
       "      <th>2</th>\n",
       "      <td>1992.0</td>\n",
       "      <td>877.0</td>\n",
       "      <td>1964.0</td>\n",
       "      <td>145.0</td>\n",
       "      <td>234.0</td>\n",
       "      <td>338.0</td>\n",
       "      <td>795.0</td>\n",
       "      <td>216.0</td>\n",
       "      <td>455.0</td>\n",
       "      <td>111.0</td>\n",
       "      <td>330.0</td>\n",
       "    </tr>\n",
       "    <tr>\n",
       "      <th>3</th>\n",
       "      <td>1993.0</td>\n",
       "      <td>929.0</td>\n",
       "      <td>1998.0</td>\n",
       "      <td>148.0</td>\n",
       "      <td>238.0</td>\n",
       "      <td>335.0</td>\n",
       "      <td>751.0</td>\n",
       "      <td>223.0</td>\n",
       "      <td>458.0</td>\n",
       "      <td>125.0</td>\n",
       "      <td>338.0</td>\n",
       "    </tr>\n",
       "    <tr>\n",
       "      <th>4</th>\n",
       "      <td>1994.0</td>\n",
       "      <td>973.0</td>\n",
       "      <td>2036.0</td>\n",
       "      <td>156.0</td>\n",
       "      <td>231.0</td>\n",
       "      <td>333.0</td>\n",
       "      <td>657.0</td>\n",
       "      <td>231.0</td>\n",
       "      <td>483.0</td>\n",
       "      <td>133.0</td>\n",
       "      <td>351.0</td>\n",
       "    </tr>\n",
       "  </tbody>\n",
       "</table>\n",
       "</div>"
      ],
      "text/plain": [
       "     Year  China  United States  Brazil  France  Germany  Russia  Canada  \\\n",
       "0  1990.0  874.0         1910.0   141.0   225.0    351.0   879.0   211.0   \n",
       "1  1991.0  848.0         1925.0   143.0   237.0    344.0   871.0   210.0   \n",
       "2  1992.0  877.0         1964.0   145.0   234.0    338.0   795.0   216.0   \n",
       "3  1993.0  929.0         1998.0   148.0   238.0    335.0   751.0   223.0   \n",
       "4  1994.0  973.0         2036.0   156.0   231.0    333.0   657.0   231.0   \n",
       "\n",
       "   Japan  South Korea  India  \n",
       "0  440.0         94.0  306.0  \n",
       "1  445.0        101.0  318.0  \n",
       "2  455.0        111.0  330.0  \n",
       "3  458.0        125.0  338.0  \n",
       "4  483.0        133.0  351.0  "
      ]
     },
     "execution_count": 29,
     "metadata": {},
     "output_type": "execute_result"
    }
   ],
   "source": [
    "df_top_ten = df_Countries_sin_nan.loc[:,df_Countries_sin_nan.mean(axis=0) > 210]\n",
    "df_top_ten.head(5)"
   ]
  },
  {
   "cell_type": "code",
   "execution_count": 30,
   "metadata": {},
   "outputs": [
    {
     "data": {
      "image/png": "[encoded data removed]",
      "text/plain": [
       "<Figure size 864x504 with 1 Axes>"
      ]
     },
     "metadata": {
      "needs_background": "light"
     },
     "output_type": "display_data"
    }
   ],
   "source": [
    "## Aquí hago la gráfica de los 10 países que mas consumen\n",
    "fig , ax = plt.subplots(figsize=(12,7))\n",
    "\n",
    "x1 = df_top_ten.iloc[:,0]\n",
    "\n",
    "y1 = df_top_ten.iloc[:,1]\n",
    "y2 = df_top_ten.iloc[:,2]\n",
    "y3 = df_top_ten.iloc[:,3]\n",
    "y4 = df_top_ten.iloc[:,4]\n",
    "y5 = df_top_ten.iloc[:,5]\n",
    "y6 = df_top_ten.iloc[:,6]\n",
    "y7 = df_top_ten.iloc[:,7]\n",
    "y8 = df_top_ten.iloc[:,8]\n",
    "y9 = df_top_ten.iloc[:,9]\n",
    "\n",
    "ax.tick_params(axis='x', rotation=90)\n",
    "\n",
    "plt.plot(x1, y1, marker ='', linewidth=3, label='China', color='#E74C3C')\n",
    "plt.plot(x1, y2, marker ='', linewidth=3, label = 'US', color='#239B56')\n",
    "plt.plot(x1, y3, marker ='+', linewidth=2, label = 'Brazil', color='#FFFF25')\n",
    "plt.plot(x1, y4, marker ='o', linewidth=1, label='France', color='#00FFFF')\n",
    "plt.plot(x1, y5, marker ='', linewidth=2, label='Germany', color='#FF8000')\n",
    "plt.plot(x1, y6, marker ='', linewidth=2, linestyle='dashed', label='Russia', color='#00FF00')\n",
    "plt.plot(x1, y7, marker ='', linewidth=1, label='Canada', color='#FF00FF')\n",
    "plt.plot(x1, y8, marker ='', linewidth=2, label='Japan', color='#8E44AD')\n",
    "plt.plot(x1, y9, marker ='', linewidth=2, label='India', color='#0000FF')\n",
    "\n",
    "plt.legend(fontsize=10)\n",
    "fig.tight_layout(pad=3) # tight_layout nos ayuda a ajustar el relleno del plot y el parametro pad sirve para ajustar el relleno entre el borde de la figura y los bordes de las subtramas (como fraccion)\n",
    "fig.suptitle('Top 10 de paises con el mayor consumo energético promedio (TWh)', fontsize=18, y=1.02)\n",
    "\n",
    "plt.show()"
   ]
  },
  {
   "cell_type": "markdown",
   "metadata": {},
   "source": [
    "# Procedimiento\n",
    "\n",
    "- Limpiar la data (cada Dataframe)\n",
    "- Transformar la data a nuevos dataframes\n",
    "- Mostrar estadisticos basicos que describan cada dataframe\n",
    "- Contestar las preguntas con graficos explicativos y texto\n",
    "- Crear reporte en streamlit"
   ]
  }
 ],
 "metadata": {
  "interpreter": {
   "hash": "cc43a0ce61d8e66137370f6f9e050b667a66650f691b6b25f6fefd16483ed709"
  },
  "kernelspec": {
   "display_name": "Python 3.8.2 ('ProyectAnalyticsenv': venv)",
   "language": "python",
   "name": "python3"
  },
  "language_info": {
   "codemirror_mode": {
    "name": "ipython",
    "version": 3
   },
   "file_extension": ".py",
   "mimetype": "text/x-python",
   "name": "python",
   "nbconvert_exporter": "python",
   "pygments_lexer": "ipython3",
   "version": "3.8.2"
  },
  "orig_nbformat": 4
 },
 "nbformat": 4,
 "nbformat_minor": 2
}
